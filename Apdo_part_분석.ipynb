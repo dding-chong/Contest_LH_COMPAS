{
 "cells": [
  {
   "cell_type": "code",
   "execution_count": 1,
   "metadata": {},
   "outputs": [],
   "source": [
    "#!pip install geopandas"
   ]
  },
  {
   "cell_type": "code",
   "execution_count": 2,
   "metadata": {},
   "outputs": [],
   "source": [
    "import geopandas as gpd\n",
    "from geoband import API\n",
    "from shapely.geometry import Polygon, Point\n",
    "\n",
    "import time\n",
    "import fnmatch\n",
    "import sys\n",
    "import numpy as np\n",
    "\n",
    "from scipy.stats import mannwhitneyu\n",
    "from statsmodels.sandbox.stats.multicomp import multipletests\n",
    "from patsy import dmatrices\n",
    "from statsmodels.stats.outliers_influence import variance_inflation_factor\n",
    "from sklearn.linear_model import LinearRegression\n",
    "from sklearn import linear_model\n",
    "import statsmodels.formula.api as smf \n",
    "import statsmodels.api as sm\n",
    "\n",
    "import matplotlib.pyplot as plt\n",
    "import seaborn as sns\n",
    "import warnings\n",
    "warnings.filterwarnings(action='ignore')\n"
   ]
  },
  {
   "cell_type": "code",
   "execution_count": 3,
   "metadata": {},
   "outputs": [
    {
     "name": "stdout",
     "output_type": "stream",
     "text": [
      "/opt/app-root/src\n"
     ]
    }
   ],
   "source": [
    "import os\n",
    "import pandas as pd\n",
    "import pathlib\n",
    "print(os.getcwd())"
   ]
  },
  {
   "cell_type": "code",
   "execution_count": 4,
   "metadata": {},
   "outputs": [],
   "source": [
    "input_path = pathlib.Path('./input')\n",
    "if not input_path.is_dir():\n",
    "    input_path.mkdir()\n",
    "    \n",
    "API.GetCompasData('SBJ_2012_001', '1', '1.오산시_주정차단속(2018~2020).csv')\n",
    "API.GetCompasData('SBJ_2012_001', '2', '2.오산시_어린이교통사고_격자.geojson')\n",
    "API.GetCompasData('SBJ_2012_001', '3', '3.오산시_차량등록현황_격자.geojson')\n",
    "API.GetCompasData('SBJ_2012_001', '4', '4.오산시_연령별_거주인구격자(총인구).geojson')\n",
    "API.GetCompasData('SBJ_2012_001', '5', '5.오산시_연령별_거주인구격자(유소년).geojson')\n",
    "API.GetCompasData('SBJ_2012_001', '6', '6.오산시_연령별_거주인구격자(생산가능인구).geojson')\n",
    "API.GetCompasData('SBJ_2012_001', '7', '7.오산시_연령별_거주인구격자(고령).geojson')\n",
    "API.GetCompasData('SBJ_2012_001', '8', '8.오산시_유동인구(2019).csv')\n",
    "API.GetCompasData('SBJ_2012_001', '9', '9.오산시_어린이보호구역.csv')\n",
    "API.GetCompasData('SBJ_2012_001', '10', '10.오산시_학교위치정보.csv')\n",
    "API.GetCompasData('SBJ_2012_001', '11', '11.오산시_초등학교_통학구.geojson')\n",
    "API.GetCompasData('SBJ_2012_001', '12', '12.오산시_중학교_학군.geojson')\n",
    "API.GetCompasData('SBJ_2012_001', '13', '13.오산시_어린이집_유치원현황.csv')\n",
    "API.GetCompasData('SBJ_2012_001', '14', '14.오산시_기상데이터(2010~2019).csv')\n",
    "API.GetCompasData('SBJ_2012_001', '15', '15.오산시_무인교통단속카메라.csv')\n",
    "API.GetCompasData('SBJ_2012_001', '16', '16.오산시_도로안전표지표준데이터.csv')\n",
    "API.GetCompasData('SBJ_2012_001', '17', '17.오산시_횡단보도.geojson')\n",
    "API.GetCompasData('SBJ_2012_001', '18', '18.오산시_과속방지턱표준데이터.csv')\n",
    "API.GetCompasData('SBJ_2012_001', '19', '19.오산시_신호등.geojson')\n",
    "API.GetCompasData('SBJ_2012_001', '20', '20.오산시_CCTV설치현황.csv')\n",
    "API.GetCompasData('SBJ_2012_001', '21', '21.오산시_인도.geojson')\n",
    "API.GetCompasData('SBJ_2012_001', '22', '22.오산시_버스정류장.csv')\n",
    "API.GetCompasData('SBJ_2012_001', '23', '23.오산시_상세도로망_LV6.geojson')\n",
    "API.GetCompasData('SBJ_2012_001', '24', '24.평일_전일,시간대별_오산시_추정교통량_Level6.csv')\n",
    "API.GetCompasData('SBJ_2012_001', '25', '25.평일_전일_오산시_혼잡빈도강도_Level6.csv')\n",
    "API.GetCompasData('SBJ_2012_001', '26', '26.평일_전일_오산시_혼잡시간강도_Level6.csv')\n",
    "API.GetCompasData('SBJ_2012_001', '27', '27.오산시_도로명주소_건물.geojson')\n",
    "API.GetCompasData('SBJ_2012_001', '28', '28.오산시_건물연면적_격자.geojson')\n",
    "API.GetCompasData('SBJ_2012_001', '29', '29.오산시_체육시설현황.csv')\n",
    "API.GetCompasData('SBJ_2012_001', '30', '30.오산시_학원_및_교습소_현황.csv')\n",
    "API.GetCompasData('SBJ_2012_001', '31', '31.오산시_법정경계(시군구).geojson')\n",
    "API.GetCompasData('SBJ_2012_001', '32', '32.오산시_행정경계(읍면동).geojson')\n",
    "API.GetCompasData('SBJ_2012_001', '33', '33.오산시_법정경계(읍면동).geojson')\n",
    "API.GetCompasData('SBJ_2012_001', '34', '34.오산시_지적도.geojson')\n",
    "API.GetCompasData('SBJ_2012_001', '35', '35.코드정의서.xlsx')\n",
    "\n",
    "\n",
    "for path in list(input_path.glob('*.csv')) + list(input_path.glob('*.geojson')):\n",
    "    print(path)"
   ]
  },
  {
   "cell_type": "code",
   "execution_count": 5,
   "metadata": {},
   "outputs": [],
   "source": [
    "mod = sys.modules[__name__]\n",
    "\n",
    "for filename in os.listdir()[7:]:\n",
    "    num = filename.split('.')[0]\n",
    "    \n",
    "    if fnmatch.fnmatch(filename, '*.csv'):\n",
    "        setattr(mod, 'df_{}'.format(num),  pd.read_csv(filename))\n",
    "\n",
    "    elif fnmatch.fnmatch(filename, '*.geojson'):\n",
    "        setattr(mod, 'df_{}'.format(num), gpd.read_file(filename))"
   ]
  },
  {
   "cell_type": "code",
   "execution_count": 6,
   "metadata": {},
   "outputs": [],
   "source": [
    "def multipolygon_to_coordinates(x): \n",
    "    lon, lat = x[0].exterior.xy \n",
    "    return [[x, y] for x, y in zip(lon, lat)] \n",
    "\n",
    "def polygon_to_coordinates(x): \n",
    "    lon, lat = x.exterior.xy \n",
    "    return [[x, y] for x, y in zip(lon, lat)] "
   ]
  },
  {
   "cell_type": "code",
   "execution_count": 7,
   "metadata": {},
   "outputs": [],
   "source": [
    "df_2['coordinates'] = df_2['geometry'].apply(multipolygon_to_coordinates)"
   ]
  },
  {
   "cell_type": "code",
   "execution_count": 8,
   "metadata": {},
   "outputs": [],
   "source": [
    "df_2_list = []\n",
    "df_2_list2 = []\n",
    "\n",
    "for i in df_2['geometry']:\n",
    "    cent = [[i[0].centroid.coords[0][0],i[0].centroid.coords[0][1]]]\n",
    "    df_2_list.append(cent)\n",
    "    df_2_list2.append(Point(cent[0]))\n",
    "    \n",
    "df_2['coord_cent'] = 0\n",
    "df_2['geo_cent'] = 0\n",
    "\n",
    "df_2['geo_cent'] = df_2_list2 # geopandas를 위한 geometry type\n",
    "df_2['coord_cent']= pd.DataFrame(df_2_list) # pydeck을 위한 coordinate type"
   ]
  },
  {
   "cell_type": "code",
   "execution_count": 9,
   "metadata": {},
   "outputs": [],
   "source": [
    "df_2['grid_id']=0\n",
    "idx = []\n",
    "\n",
    "for i in range(len(df_2)):\n",
    "    idx.append(str(i).zfill(5))\n",
    "df_2['grid_id'] = pd.DataFrame(idx)\n",
    "\n",
    "# 사고 횟수가 가장 높은 위치\n",
    "#df_2.iloc[df_2[\"accident_cnt\"].sort_values(ascending=False).index].reindex().head()"
   ]
  },
  {
   "cell_type": "code",
   "execution_count": 10,
   "metadata": {},
   "outputs": [],
   "source": [
    "for i in range(len(df_2)):\n",
    "    df_2.loc[i, 'min_lon'] = df_2.loc[i, 'geometry'].bounds[0]\n",
    "    df_2.loc[i, 'max_lon'] = df_2.loc[i, 'geometry'].bounds[2]\n",
    "    df_2.loc[i, 'min_lat'] = df_2.loc[i, 'geometry'].bounds[1]\n",
    "    df_2.loc[i, 'max_lat'] = df_2.loc[i, 'geometry'].bounds[3]"
   ]
  },
  {
   "cell_type": "code",
   "execution_count": 11,
   "metadata": {},
   "outputs": [],
   "source": [
    "df_2['사고정규화'] = df_2['accident_cnt'] / df_2['accident_cnt'].max()"
   ]
  },
  {
   "cell_type": "code",
   "execution_count": 12,
   "metadata": {},
   "outputs": [
    {
     "data": {
      "text/plain": [
       "4510"
      ]
     },
     "execution_count": 12,
     "metadata": {},
     "output_type": "execute_result"
    }
   ],
   "source": [
    "df_2['geometry'].nunique() #총 격자는 4510개"
   ]
  },
  {
   "cell_type": "markdown",
   "metadata": {},
   "source": [
    "## 변수 추가"
   ]
  },
  {
   "cell_type": "code",
   "execution_count": 13,
   "metadata": {},
   "outputs": [],
   "source": [
    "final_df = df_2.copy()"
   ]
  },
  {
   "cell_type": "code",
   "execution_count": 14,
   "metadata": {},
   "outputs": [],
   "source": [
    "# bounds의 경도 최대 최소 차는 약 0.0011 / 위도 최대 최소 차는 약 0.0009"
   ]
  },
  {
   "cell_type": "markdown",
   "metadata": {},
   "source": [
    "### df_1 (주정차단속)"
   ]
  },
  {
   "cell_type": "code",
   "execution_count": 15,
   "metadata": {},
   "outputs": [],
   "source": [
    "#!pip install haversine\n",
    "#from haversine import haversine"
   ]
  },
  {
   "cell_type": "code",
   "execution_count": 16,
   "metadata": {},
   "outputs": [
    {
     "name": "stdout",
     "output_type": "stream",
     "text": [
      "CPU times: user 3min 36s, sys: 1.17 s, total: 3min 37s\n",
      "Wall time: 3min 49s\n"
     ]
    }
   ],
   "source": [
    "%%time\n",
    "\n",
    "final_df['주정차단속'] = 0\n",
    "\n",
    "for i in range(len(df_1)):\n",
    "    lon, lat = df_1.loc[i, '단속위치_경도'], df_1.loc[i, '단속위치_위도']\n",
    "    tmp_df = final_df[(final_df['max_lon'] >= lon) & (final_df['min_lon'] <= lon)\n",
    "                     & (final_df['max_lat'] >= lat) & (final_df['min_lat'] <= lat)].index\n",
    "    \n",
    "    final_df.loc[tmp_df, '주정차단속'] += 1"
   ]
  },
  {
   "cell_type": "code",
   "execution_count": 17,
   "metadata": {},
   "outputs": [
    {
     "name": "stdout",
     "output_type": "stream",
     "text": [
      "61815 61701\n"
     ]
    }
   ],
   "source": [
    "print(final_df['주정차단속'].sum(), df_1.shape[0])"
   ]
  },
  {
   "cell_type": "code",
   "execution_count": 18,
   "metadata": {},
   "outputs": [],
   "source": [
    "#final_df.to_csv('final_df.csv', index = False)"
   ]
  },
  {
   "cell_type": "markdown",
   "metadata": {},
   "source": [
    "### df_4 (총인구)"
   ]
  },
  {
   "cell_type": "code",
   "execution_count": 19,
   "metadata": {},
   "outputs": [],
   "source": [
    "final_df = pd.merge(final_df, df_4.fillna(0).rename({'val':'총인구'}, axis = 1)[['gid', '총인구']], on = 'gid', how = 'left')"
   ]
  },
  {
   "cell_type": "markdown",
   "metadata": {},
   "source": [
    "### df_5 (유소년인구현황)"
   ]
  },
  {
   "cell_type": "code",
   "execution_count": 20,
   "metadata": {},
   "outputs": [],
   "source": [
    "final_df = pd.merge(final_df, df_5.fillna(0).rename({'val':'유소년인구'}, axis = 1)[['gid', '유소년인구']], on = 'gid', how = 'left')"
   ]
  },
  {
   "cell_type": "markdown",
   "metadata": {},
   "source": [
    "### df_6 (생산가능인구)"
   ]
  },
  {
   "cell_type": "code",
   "execution_count": 21,
   "metadata": {},
   "outputs": [],
   "source": [
    "final_df = pd.merge(final_df, df_6.fillna(0).rename({'val':'생산가능인구'}, axis = 1)[['gid', '생산가능인구']], on = 'gid', how = 'left')"
   ]
  },
  {
   "cell_type": "markdown",
   "metadata": {},
   "source": [
    "### df_8 (유동인구)"
   ]
  },
  {
   "cell_type": "code",
   "execution_count": 22,
   "metadata": {},
   "outputs": [],
   "source": [
    "# 결측치 없음\n",
    "\n",
    "df_8['등교(08-10)'], df_8['하교(14-18)'], df_8['이외유동(18-22)'] = 0, 0, 0\n",
    "\n",
    "df_8['등교(08-10)'] = df_8.loc[:, 'TMST_08':'TMST_10'].sum(axis = 1)\n",
    "df_8['하교(14-18)'] = df_8.loc[:, 'TMST_14':'TMST_18'].sum(axis = 1)\n",
    "df_8['이외유동(18-22)'] = df_8.loc[:, 'TMST_18':'TMST_22'].sum(axis = 1)"
   ]
  },
  {
   "cell_type": "code",
   "execution_count": 23,
   "metadata": {},
   "outputs": [
    {
     "name": "stdout",
     "output_type": "stream",
     "text": [
      "CPU times: user 11min 31s, sys: 2.62 s, total: 11min 34s\n",
      "Wall time: 12min 11s\n"
     ]
    }
   ],
   "source": [
    "%%time\n",
    "\n",
    "final_df['등교(08-10)'], final_df['하교(14-18)'], final_df['이외유동(18-22)'] = 0, 0, 0\n",
    "\n",
    "for i in range(len(df_8)):\n",
    "    lon, lat = df_8.loc[i, 'lon'], df_8.loc[i, 'lat']\n",
    "    등교, 하교, 이외 = df_8.loc[i, '등교(08-10)'], df_8.loc[i, '하교(14-18)'], df_8.loc[i, '이외유동(18-22)']\n",
    "    \n",
    "    tmp_df = final_df[(final_df['max_lon'] >= lon) & (final_df['min_lon'] <= lon)\n",
    "                     & (final_df['max_lat'] >= lat) & (final_df['min_lat'] <= lat)].index\n",
    "    \n",
    "    final_df.loc[tmp_df, '등교(08-10)'] += 등교\n",
    "    final_df.loc[tmp_df, '하교(14-18)'] += 하교\n",
    "    final_df.loc[tmp_df, '이외유동(18-22)'] += 이외"
   ]
  },
  {
   "cell_type": "markdown",
   "metadata": {},
   "source": [
    "### df_9 (어린이보호구역 현황)"
   ]
  },
  {
   "cell_type": "code",
   "execution_count": 24,
   "metadata": {},
   "outputs": [
    {
     "name": "stdout",
     "output_type": "stream",
     "text": [
      "CPU times: user 357 ms, sys: 18.2 ms, total: 375 ms\n",
      "Wall time: 414 ms\n"
     ]
    }
   ],
   "source": [
    "%%time\n",
    "\n",
    "final_df['어린이보호구역'] = 0\n",
    "\n",
    "for i in range(len(df_9)):\n",
    "    lon, lat = df_9.loc[i, '보호구역_경도'], df_9.loc[i, '보호구역_위도']\n",
    "    tmp_df = final_df[(final_df['max_lon'] >= lon) & (final_df['min_lon'] <= lon)\n",
    "                     & (final_df['max_lat'] >= lat) & (final_df['min_lat'] <= lat)].index\n",
    "    \n",
    "    final_df.loc[tmp_df, '어린이보호구역'] += 1"
   ]
  },
  {
   "cell_type": "code",
   "execution_count": 25,
   "metadata": {},
   "outputs": [],
   "source": [
    "#final_df.to_csv('final_df.csv', index = False)"
   ]
  },
  {
   "cell_type": "markdown",
   "metadata": {},
   "source": [
    "### df_10 (학교위치정보)"
   ]
  },
  {
   "cell_type": "code",
   "execution_count": 26,
   "metadata": {},
   "outputs": [
    {
     "name": "stdout",
     "output_type": "stream",
     "text": [
      "CPU times: user 14.5 s, sys: 4.54 ms, total: 14.5 s\n",
      "Wall time: 15.3 s\n"
     ]
    }
   ],
   "source": [
    "%%time\n",
    "\n",
    "df_10 = df_10.query('학교구분 == \"초등학교\"')\n",
    "\n",
    "final_df['초등학교'] = 0\n",
    "\n",
    "for i, v in df_10.iterrows():\n",
    "    for j, p in final_df.iterrows():\n",
    "        if Point([v['학교위치_경도'], v['학교위치_위도']]).within(p['geometry']):\n",
    "            final_df['초등학교'].loc[j] += 1    \n",
    "            continue"
   ]
  },
  {
   "cell_type": "markdown",
   "metadata": {},
   "source": [
    "### df_11 (초등학교통학구)"
   ]
  },
  {
   "cell_type": "code",
   "execution_count": 27,
   "metadata": {},
   "outputs": [
    {
     "name": "stdout",
     "output_type": "stream",
     "text": [
      "CPU times: user 57.9 s, sys: 3.81 ms, total: 57.9 s\n",
      "Wall time: 1min\n"
     ]
    }
   ],
   "source": [
    "%%time\n",
    "\n",
    "final_df['인접초등학교통학구'] = 0.0\n",
    "\n",
    "for i in range(0, len(final_df)):\n",
    "    for j in range(0, len(df_11)):\n",
    "        final_df['인접초등학교통학구'][i] += final_df['geometry'][i].intersection(df_11['geometry'][j]).area\n",
    "        #if (v['geometry'].intersects(p['geometry'])) or (v['geometry'].crosses(p['geometry'])):\n",
    "        #    final_df['인접초등학교통학구'].loc[j] += v['geometry']"
   ]
  },
  {
   "cell_type": "markdown",
   "metadata": {},
   "source": [
    "### df_13 (어린이집/유치원)"
   ]
  },
  {
   "cell_type": "code",
   "execution_count": 28,
   "metadata": {},
   "outputs": [
    {
     "name": "stdout",
     "output_type": "stream",
     "text": [
      "CPU times: user 3min 8s, sys: 70.7 ms, total: 3min 9s\n",
      "Wall time: 3min 19s\n"
     ]
    }
   ],
   "source": [
    "%%time\n",
    "\n",
    "final_df['어린이집_유치원'] = 0\n",
    "\n",
    "for i, v in df_13.iterrows():\n",
    "    for j, p in final_df.iterrows():\n",
    "        if Point([v['시설위치_경도'], v['시설위치_위도']]).within(p['geometry']):\n",
    "            final_df['어린이집_유치원'].loc[j] += 1     "
   ]
  },
  {
   "cell_type": "markdown",
   "metadata": {},
   "source": [
    "### df_30 (학원/교습소)\n",
    "\n",
    "> '고등', '중등', '자격증'이라는 단어를 포함한 것과 교급과정명이 없는 학원 및 교습소는 제외시킴"
   ]
  },
  {
   "cell_type": "code",
   "execution_count": 29,
   "metadata": {},
   "outputs": [],
   "source": [
    "df_30 = df_30[df_30['교습과정명'].isnull() == False]\n",
    "df_30 = df_30[(df_30['교습과정명'].str.contains('고등')==False) & (df_30['교습과정명'].str.contains('중등')==False)\n",
    "     & (df_30['교습과정명'].str.contains('자격증')==False)].reset_index(drop = True)"
   ]
  },
  {
   "cell_type": "code",
   "execution_count": 30,
   "metadata": {},
   "outputs": [
    {
     "name": "stdout",
     "output_type": "stream",
     "text": [
      "CPU times: user 4.35 s, sys: 30.1 ms, total: 4.38 s\n",
      "Wall time: 4.64 s\n"
     ]
    }
   ],
   "source": [
    "%%time\n",
    "\n",
    "final_df['학원_교습소'] = 0\n",
    "\n",
    "for i in range(len(df_30)):\n",
    "    lon, lat = df_30.loc[i, '시설위치_경도'], df_30.loc[i, '시설위치_위도']\n",
    "    tmp_df = final_df[(final_df['max_lon'] >= lon) & (final_df['min_lon'] <= lon)\n",
    "                     & (final_df['max_lat'] >= lat) & (final_df['min_lat'] <= lat)].index\n",
    "    \n",
    "    final_df.loc[tmp_df, '학원_교습소'] += 1"
   ]
  },
  {
   "cell_type": "code",
   "execution_count": 31,
   "metadata": {},
   "outputs": [],
   "source": [
    "#final_df.to_csv('final_df.csv', index = False)"
   ]
  },
  {
   "cell_type": "markdown",
   "metadata": {},
   "source": [
    "### df_15 (무인교통단속)"
   ]
  },
  {
   "cell_type": "code",
   "execution_count": 32,
   "metadata": {},
   "outputs": [
    {
     "name": "stdout",
     "output_type": "stream",
     "text": [
      "CPU times: user 1min 8s, sys: 22.8 ms, total: 1min 8s\n",
      "Wall time: 1min 12s\n"
     ]
    }
   ],
   "source": [
    "%%time\n",
    "\n",
    "final_df['무인교통단속'] = 0\n",
    "\n",
    "for i, v in df_15.iterrows():\n",
    "    for j, p in final_df.iterrows():\n",
    "        if Point([v['설치위치_경도'], v['설치위치_위도']]).within(p['geometry']):\n",
    "            final_df['무인교통단속'].loc[j] += 1    "
   ]
  },
  {
   "cell_type": "markdown",
   "metadata": {},
   "source": [
    "### df_16 (도로안전표지판)"
   ]
  },
  {
   "cell_type": "code",
   "execution_count": 33,
   "metadata": {},
   "outputs": [
    {
     "name": "stdout",
     "output_type": "stream",
     "text": [
      "CPU times: user 2.84 s, sys: 18.1 ms, total: 2.86 s\n",
      "Wall time: 3.03 s\n"
     ]
    }
   ],
   "source": [
    "%%time\n",
    "\n",
    "final_df['도로안전표지판'] = 0\n",
    "\n",
    "for i in range(len(df_16)):\n",
    "    lon, lat = df_16.loc[i, 'lon'], df_16.loc[i, 'lat']\n",
    "    tmp_df = final_df[(final_df['max_lon'] >= lon) & (final_df['min_lon'] <= lon)\n",
    "                     & (final_df['max_lat'] >= lat) & (final_df['min_lat'] <= lat)].index\n",
    "    \n",
    "    final_df.loc[tmp_df, '도로안전표지판'] += 1"
   ]
  },
  {
   "cell_type": "markdown",
   "metadata": {},
   "source": [
    "### df_17 (횡단보도)\n",
    "> 횡단보도의 무게중심(centroid)를 추출해서 point 찾는 방식으로 변환"
   ]
  },
  {
   "cell_type": "code",
   "execution_count": 34,
   "metadata": {},
   "outputs": [],
   "source": [
    "lon = []\n",
    "lat = []\n",
    "\n",
    "for i in df_17['geometry']:\n",
    "    cent = [[i[0].centroid.coords[0][0],i[0].centroid.coords[0][1]]]\n",
    "    lon.append(cent[0][0])\n",
    "    lat.append(cent[0][1])\n",
    "    \n",
    "df_17['lon'], df_17['lat'] = 0, 0\n",
    "df_17['lon'], df_17['lat'] = lon, lat"
   ]
  },
  {
   "cell_type": "code",
   "execution_count": 35,
   "metadata": {},
   "outputs": [
    {
     "name": "stdout",
     "output_type": "stream",
     "text": [
      "CPU times: user 4.16 s, sys: 43.3 ms, total: 4.2 s\n",
      "Wall time: 4.45 s\n"
     ]
    }
   ],
   "source": [
    "%%time\n",
    "\n",
    "final_df['횡단보도'] = 0\n",
    "\n",
    "for i in range(len(df_17)):\n",
    "    lon, lat = df_17.loc[i, 'lon'], df_17.loc[i, 'lat']\n",
    "    tmp_df = final_df[(final_df['max_lon'] >= lon) & (final_df['min_lon'] <= lon)\n",
    "                     & (final_df['max_lat'] >= lat) & (final_df['min_lat'] <= lat)].index\n",
    "    \n",
    "    final_df.loc[tmp_df, '횡단보도'] += 1 "
   ]
  },
  {
   "cell_type": "markdown",
   "metadata": {},
   "source": [
    "### df_18 (과속방지턱)"
   ]
  },
  {
   "cell_type": "code",
   "execution_count": 36,
   "metadata": {},
   "outputs": [
    {
     "name": "stdout",
     "output_type": "stream",
     "text": [
      "CPU times: user 124 ms, sys: 13.1 ms, total: 137 ms\n",
      "Wall time: 151 ms\n"
     ]
    }
   ],
   "source": [
    "%%time\n",
    "\n",
    "final_df['과속방지턱'] = 0\n",
    "\n",
    "for i in range(len(df_18)):\n",
    "    lon, lat = df_18.loc[i, '설치위치_경도'], df_18.loc[i, '설치위치_위도']\n",
    "    tmp_df = final_df[(final_df['max_lon'] >= lon) & (final_df['min_lon'] <= lon)\n",
    "                     & (final_df['max_lat'] >= lat) & (final_df['min_lat'] <= lat)].index\n",
    "    \n",
    "    final_df.loc[tmp_df, '과속방지턱'] += 1 "
   ]
  },
  {
   "cell_type": "code",
   "execution_count": 37,
   "metadata": {},
   "outputs": [],
   "source": [
    "#final_df.to_csv('final_df.csv', index = False)"
   ]
  },
  {
   "cell_type": "markdown",
   "metadata": {},
   "source": [
    "### df_19 (신호등)"
   ]
  },
  {
   "cell_type": "code",
   "execution_count": 38,
   "metadata": {},
   "outputs": [
    {
     "name": "stdout",
     "output_type": "stream",
     "text": [
      "CPU times: user 5.07 s, sys: 19 ms, total: 5.09 s\n",
      "Wall time: 5.38 s\n"
     ]
    }
   ],
   "source": [
    "%%time\n",
    "\n",
    "final_df['신호등'] = 0\n",
    "\n",
    "for i in range(len(df_19)):\n",
    "    lon, lat = df_19['geometry'][i].x, df_19['geometry'][i].y\n",
    "    tmp_df = final_df[(final_df['max_lon'] >= lon) & (final_df['min_lon'] <= lon)\n",
    "                     & (final_df['max_lat'] >= lat) & (final_df['min_lat'] <= lat)].index\n",
    "    \n",
    "    final_df.loc[tmp_df, '신호등'] += 1 "
   ]
  },
  {
   "cell_type": "code",
   "execution_count": 39,
   "metadata": {},
   "outputs": [],
   "source": [
    "#final_df.to_csv('final_df.csv', index = False)"
   ]
  },
  {
   "cell_type": "markdown",
   "metadata": {},
   "source": [
    "### df_20 (CCTV)"
   ]
  },
  {
   "cell_type": "code",
   "execution_count": 40,
   "metadata": {},
   "outputs": [],
   "source": [
    "for i in range(len(df_20)):\n",
    "    if df_20.loc[i, '설치위치_위도'] > 100:\n",
    "        tmp = df_20.loc[i, '설치위치_위도']\n",
    "        df_20.loc[i, '설치위치_위도'] = df_20.loc[i, '설치위치_경도']\n",
    "        df_20.loc[i, '설치위치_경도'] = tmp"
   ]
  },
  {
   "cell_type": "code",
   "execution_count": 41,
   "metadata": {},
   "outputs": [
    {
     "name": "stdout",
     "output_type": "stream",
     "text": [
      "CPU times: user 1.99 s, sys: 21.1 ms, total: 2.01 s\n",
      "Wall time: 2.14 s\n"
     ]
    }
   ],
   "source": [
    "%%time\n",
    "\n",
    "final_df['CCTV'] = 0\n",
    "\n",
    "for i in range(len(df_20)):\n",
    "    lon, lat = df_20.loc[i, '설치위치_경도'], df_20.loc[i, '설치위치_위도']\n",
    "    tmp_df = final_df[(final_df['max_lon'] >= lon) & (final_df['min_lon'] <= lon)\n",
    "                     & (final_df['max_lat'] >= lat) & (final_df['min_lat'] <= lat)].index\n",
    "    \n",
    "    final_df.loc[tmp_df, 'CCTV'] += 1 "
   ]
  },
  {
   "cell_type": "markdown",
   "metadata": {},
   "source": [
    "### df_22 (버스정류장)"
   ]
  },
  {
   "cell_type": "code",
   "execution_count": 42,
   "metadata": {},
   "outputs": [
    {
     "name": "stdout",
     "output_type": "stream",
     "text": [
      "CPU times: user 1.44 s, sys: 16.1 ms, total: 1.45 s\n",
      "Wall time: 1.54 s\n"
     ]
    }
   ],
   "source": [
    "%%time\n",
    "\n",
    "final_df['버스정류장'] = 0\n",
    "\n",
    "for i in range(len(df_22)):\n",
    "    lon, lat = df_22.loc[i, '정류장 위치_경도'], df_22.loc[i, '정류장 위치_위도']\n",
    "    tmp_df = final_df[(final_df['max_lon'] >= lon) & (final_df['min_lon'] <= lon)\n",
    "                     & (final_df['max_lat'] >= lat) & (final_df['min_lat'] <= lat)].index\n",
    "    \n",
    "    final_df.loc[tmp_df, '버스정류장'] += 1 "
   ]
  },
  {
   "cell_type": "markdown",
   "metadata": {},
   "source": [
    "### 도로 정보 변수"
   ]
  },
  {
   "cell_type": "markdown",
   "metadata": {},
   "source": [
    "- df_23 / df_24 / df_25 (상세 도로망 / 혼합빈도강도 / 혼합시간강도)"
   ]
  },
  {
   "cell_type": "code",
   "execution_count": 43,
   "metadata": {},
   "outputs": [],
   "source": [
    "df_24_1 = df_24.groupby(['상세도로망_LinkID', '평일주말'])[['전체 추정교통량', '승용차 추정교통량', '버스 추정교통량', '화물차 추정교통량']].sum().reset_index(drop = False)\n",
    "df_25_1 = df_25.groupby('상세도로망_LinkID')['혼잡빈도강도'].sum().reset_index(drop = False)\n",
    "df_traffic = pd.merge(df_24_1, df_25_1, how = 'right', on = '상세도로망_LinkID').drop('평일주말', axis = 1)\n",
    "df_traffic['link_id'] = df_traffic['상세도로망_LinkID'].apply(lambda x: str(x)[:-2])\n",
    "df_traffic = pd.merge(df_23[['link_id', 'max_speed', 'length', 'width', 'up_lanes', 'dw_lanes', 'oneway', 'barrier', 'geometry']], df_traffic,\n",
    "                      how = 'left', on = 'link_id').dropna().reset_index(drop = True).drop('상세도로망_LinkID', axis = 1)"
   ]
  },
  {
   "cell_type": "code",
   "execution_count": 44,
   "metadata": {},
   "outputs": [],
   "source": [
    "df_traffic['max_speed'] = df_traffic['max_speed'].astype('float')\n",
    "df_traffic['length'] = df_traffic['length'].astype('float')\n",
    "df_traffic['width'] = df_traffic['width'].astype('float')\n",
    "df_traffic['oneway'] = df_traffic['oneway'].astype('int')\n",
    "df_traffic['barrier'] = df_traffic['width'].astype('int')\n",
    "df_traffic['up_lanes'] = df_traffic['up_lanes'].astype('int')\n",
    "df_traffic['dw_lanes'] = df_traffic['dw_lanes'].astype('int')"
   ]
  },
  {
   "cell_type": "code",
   "execution_count": 45,
   "metadata": {},
   "outputs": [
    {
     "data": {
      "text/html": [
       "<div>\n",
       "<style scoped>\n",
       "    .dataframe tbody tr th:only-of-type {\n",
       "        vertical-align: middle;\n",
       "    }\n",
       "\n",
       "    .dataframe tbody tr th {\n",
       "        vertical-align: top;\n",
       "    }\n",
       "\n",
       "    .dataframe thead th {\n",
       "        text-align: right;\n",
       "    }\n",
       "</style>\n",
       "<table border=\"1\" class=\"dataframe\">\n",
       "  <thead>\n",
       "    <tr style=\"text-align: right;\">\n",
       "      <th></th>\n",
       "      <th>link_id</th>\n",
       "      <th>max_speed</th>\n",
       "      <th>length</th>\n",
       "      <th>width</th>\n",
       "      <th>up_lanes</th>\n",
       "      <th>dw_lanes</th>\n",
       "      <th>oneway</th>\n",
       "      <th>barrier</th>\n",
       "      <th>geometry</th>\n",
       "      <th>전체 추정교통량</th>\n",
       "      <th>승용차 추정교통량</th>\n",
       "      <th>버스 추정교통량</th>\n",
       "      <th>화물차 추정교통량</th>\n",
       "      <th>혼잡빈도강도</th>\n",
       "    </tr>\n",
       "  </thead>\n",
       "  <tbody>\n",
       "    <tr>\n",
       "      <th>0</th>\n",
       "      <td>478344746</td>\n",
       "      <td>100.0</td>\n",
       "      <td>0.438</td>\n",
       "      <td>2.0</td>\n",
       "      <td>2</td>\n",
       "      <td>0</td>\n",
       "      <td>1</td>\n",
       "      <td>2</td>\n",
       "      <td>MULTILINESTRING ((127.00183 37.17475, 127.0002...</td>\n",
       "      <td>59410.04</td>\n",
       "      <td>44514.58</td>\n",
       "      <td>1854.59</td>\n",
       "      <td>13040.90</td>\n",
       "      <td>53.73</td>\n",
       "    </tr>\n",
       "    <tr>\n",
       "      <th>1</th>\n",
       "      <td>571200633</td>\n",
       "      <td>0.0</td>\n",
       "      <td>0.057</td>\n",
       "      <td>1.0</td>\n",
       "      <td>1</td>\n",
       "      <td>0</td>\n",
       "      <td>1</td>\n",
       "      <td>1</td>\n",
       "      <td>MULTILINESTRING ((127.06096 37.14943, 127.0611...</td>\n",
       "      <td>393.27</td>\n",
       "      <td>355.66</td>\n",
       "      <td>3.57</td>\n",
       "      <td>34.05</td>\n",
       "      <td>90.53</td>\n",
       "    </tr>\n",
       "    <tr>\n",
       "      <th>2</th>\n",
       "      <td>571200680</td>\n",
       "      <td>60.0</td>\n",
       "      <td>0.017</td>\n",
       "      <td>2.0</td>\n",
       "      <td>1</td>\n",
       "      <td>1</td>\n",
       "      <td>0</td>\n",
       "      <td>2</td>\n",
       "      <td>MULTILINESTRING ((127.06835 37.15484, 127.0682...</td>\n",
       "      <td>16657.54</td>\n",
       "      <td>15494.97</td>\n",
       "      <td>133.14</td>\n",
       "      <td>1029.49</td>\n",
       "      <td>75.87</td>\n",
       "    </tr>\n",
       "    <tr>\n",
       "      <th>3</th>\n",
       "      <td>571200680</td>\n",
       "      <td>60.0</td>\n",
       "      <td>0.017</td>\n",
       "      <td>2.0</td>\n",
       "      <td>1</td>\n",
       "      <td>1</td>\n",
       "      <td>0</td>\n",
       "      <td>2</td>\n",
       "      <td>MULTILINESTRING ((127.06835 37.15484, 127.0682...</td>\n",
       "      <td>13915.50</td>\n",
       "      <td>12046.22</td>\n",
       "      <td>189.36</td>\n",
       "      <td>1679.89</td>\n",
       "      <td>73.32</td>\n",
       "    </tr>\n",
       "    <tr>\n",
       "      <th>4</th>\n",
       "      <td>571200686</td>\n",
       "      <td>60.0</td>\n",
       "      <td>0.073</td>\n",
       "      <td>3.0</td>\n",
       "      <td>2</td>\n",
       "      <td>2</td>\n",
       "      <td>0</td>\n",
       "      <td>3</td>\n",
       "      <td>MULTILINESTRING ((127.07356 37.14637, 127.0729...</td>\n",
       "      <td>9390.99</td>\n",
       "      <td>8393.18</td>\n",
       "      <td>126.22</td>\n",
       "      <td>871.58</td>\n",
       "      <td>38.28</td>\n",
       "    </tr>\n",
       "    <tr>\n",
       "      <th>...</th>\n",
       "      <td>...</td>\n",
       "      <td>...</td>\n",
       "      <td>...</td>\n",
       "      <td>...</td>\n",
       "      <td>...</td>\n",
       "      <td>...</td>\n",
       "      <td>...</td>\n",
       "      <td>...</td>\n",
       "      <td>...</td>\n",
       "      <td>...</td>\n",
       "      <td>...</td>\n",
       "      <td>...</td>\n",
       "      <td>...</td>\n",
       "      <td>...</td>\n",
       "    </tr>\n",
       "    <tr>\n",
       "      <th>3027</th>\n",
       "      <td>571376981</td>\n",
       "      <td>100.0</td>\n",
       "      <td>0.643</td>\n",
       "      <td>2.0</td>\n",
       "      <td>2</td>\n",
       "      <td>0</td>\n",
       "      <td>1</td>\n",
       "      <td>2</td>\n",
       "      <td>MULTILINESTRING ((127.04011 37.17816, 127.0467...</td>\n",
       "      <td>54352.13</td>\n",
       "      <td>40391.27</td>\n",
       "      <td>2041.08</td>\n",
       "      <td>11919.80</td>\n",
       "      <td>45.64</td>\n",
       "    </tr>\n",
       "    <tr>\n",
       "      <th>3028</th>\n",
       "      <td>571376982</td>\n",
       "      <td>100.0</td>\n",
       "      <td>0.936</td>\n",
       "      <td>2.0</td>\n",
       "      <td>2</td>\n",
       "      <td>0</td>\n",
       "      <td>1</td>\n",
       "      <td>2</td>\n",
       "      <td>MULTILINESTRING ((127.04770 37.18087, 127.0478...</td>\n",
       "      <td>54459.13</td>\n",
       "      <td>40471.54</td>\n",
       "      <td>2045.39</td>\n",
       "      <td>11942.16</td>\n",
       "      <td>48.87</td>\n",
       "    </tr>\n",
       "    <tr>\n",
       "      <th>3029</th>\n",
       "      <td>571376983</td>\n",
       "      <td>100.0</td>\n",
       "      <td>0.093</td>\n",
       "      <td>2.0</td>\n",
       "      <td>2</td>\n",
       "      <td>0</td>\n",
       "      <td>1</td>\n",
       "      <td>2</td>\n",
       "      <td>MULTILINESTRING ((127.04674 37.18053, 127.0477...</td>\n",
       "      <td>54484.80</td>\n",
       "      <td>40490.57</td>\n",
       "      <td>2046.42</td>\n",
       "      <td>11947.84</td>\n",
       "      <td>45.08</td>\n",
       "    </tr>\n",
       "    <tr>\n",
       "      <th>3030</th>\n",
       "      <td>900000166</td>\n",
       "      <td>0.0</td>\n",
       "      <td>0.065</td>\n",
       "      <td>1.0</td>\n",
       "      <td>1</td>\n",
       "      <td>0</td>\n",
       "      <td>1</td>\n",
       "      <td>1</td>\n",
       "      <td>MULTILINESTRING ((127.05992 37.16942, 127.0601...</td>\n",
       "      <td>1195.72</td>\n",
       "      <td>1187.02</td>\n",
       "      <td>0.67</td>\n",
       "      <td>8.04</td>\n",
       "      <td>100.00</td>\n",
       "    </tr>\n",
       "    <tr>\n",
       "      <th>3031</th>\n",
       "      <td>900000167</td>\n",
       "      <td>0.0</td>\n",
       "      <td>0.063</td>\n",
       "      <td>1.0</td>\n",
       "      <td>1</td>\n",
       "      <td>0</td>\n",
       "      <td>1</td>\n",
       "      <td>1</td>\n",
       "      <td>MULTILINESTRING ((127.06042 37.16975, 127.0603...</td>\n",
       "      <td>890.05</td>\n",
       "      <td>883.68</td>\n",
       "      <td>0.50</td>\n",
       "      <td>5.91</td>\n",
       "      <td>100.00</td>\n",
       "    </tr>\n",
       "  </tbody>\n",
       "</table>\n",
       "<p>3032 rows × 14 columns</p>\n",
       "</div>"
      ],
      "text/plain": [
       "        link_id  max_speed  length  width  up_lanes  dw_lanes  oneway  \\\n",
       "0     478344746      100.0   0.438    2.0         2         0       1   \n",
       "1     571200633        0.0   0.057    1.0         1         0       1   \n",
       "2     571200680       60.0   0.017    2.0         1         1       0   \n",
       "3     571200680       60.0   0.017    2.0         1         1       0   \n",
       "4     571200686       60.0   0.073    3.0         2         2       0   \n",
       "...         ...        ...     ...    ...       ...       ...     ...   \n",
       "3027  571376981      100.0   0.643    2.0         2         0       1   \n",
       "3028  571376982      100.0   0.936    2.0         2         0       1   \n",
       "3029  571376983      100.0   0.093    2.0         2         0       1   \n",
       "3030  900000166        0.0   0.065    1.0         1         0       1   \n",
       "3031  900000167        0.0   0.063    1.0         1         0       1   \n",
       "\n",
       "      barrier                                           geometry  전체 추정교통량  \\\n",
       "0           2  MULTILINESTRING ((127.00183 37.17475, 127.0002...  59410.04   \n",
       "1           1  MULTILINESTRING ((127.06096 37.14943, 127.0611...    393.27   \n",
       "2           2  MULTILINESTRING ((127.06835 37.15484, 127.0682...  16657.54   \n",
       "3           2  MULTILINESTRING ((127.06835 37.15484, 127.0682...  13915.50   \n",
       "4           3  MULTILINESTRING ((127.07356 37.14637, 127.0729...   9390.99   \n",
       "...       ...                                                ...       ...   \n",
       "3027        2  MULTILINESTRING ((127.04011 37.17816, 127.0467...  54352.13   \n",
       "3028        2  MULTILINESTRING ((127.04770 37.18087, 127.0478...  54459.13   \n",
       "3029        2  MULTILINESTRING ((127.04674 37.18053, 127.0477...  54484.80   \n",
       "3030        1  MULTILINESTRING ((127.05992 37.16942, 127.0601...   1195.72   \n",
       "3031        1  MULTILINESTRING ((127.06042 37.16975, 127.0603...    890.05   \n",
       "\n",
       "      승용차 추정교통량  버스 추정교통량  화물차 추정교통량  혼잡빈도강도  \n",
       "0      44514.58   1854.59   13040.90   53.73  \n",
       "1        355.66      3.57      34.05   90.53  \n",
       "2      15494.97    133.14    1029.49   75.87  \n",
       "3      12046.22    189.36    1679.89   73.32  \n",
       "4       8393.18    126.22     871.58   38.28  \n",
       "...         ...       ...        ...     ...  \n",
       "3027   40391.27   2041.08   11919.80   45.64  \n",
       "3028   40471.54   2045.39   11942.16   48.87  \n",
       "3029   40490.57   2046.42   11947.84   45.08  \n",
       "3030    1187.02      0.67       8.04  100.00  \n",
       "3031     883.68      0.50       5.91  100.00  \n",
       "\n",
       "[3032 rows x 14 columns]"
      ]
     },
     "execution_count": 45,
     "metadata": {},
     "output_type": "execute_result"
    }
   ],
   "source": [
    "df_traffic"
   ]
  },
  {
   "cell_type": "code",
   "execution_count": 46,
   "metadata": {},
   "outputs": [
    {
     "name": "stdout",
     "output_type": "stream",
     "text": [
      "CPU times: user 28min 24s, sys: 1.09 s, total: 28min 26s\n",
      "Wall time: 29min 56s\n"
     ]
    }
   ],
   "source": [
    "%%time\n",
    "\n",
    "final_df['추정교통량_전체'] = 0\n",
    "final_df['추정교통량_승용차'] = 0\n",
    "final_df['추정교통량_버스'] = 0\n",
    "final_df['추정교통량_화물차'] = 0\n",
    "\n",
    "final_df['혼잡빈도강도'] = 0\n",
    "final_df['도로수'] = 0\n",
    "final_df['도로평균제한속도'] = 0\n",
    "final_df['도로길이'] = 0\n",
    "final_df['도로폭'] = 0\n",
    "final_df['중앙분리대'] = 0\n",
    "final_df['일방통행'] = 0\n",
    "final_df['상행차로'] = 0\n",
    "final_df['하행차로'] = 0\n",
    "\n",
    "for i, v in df_traffic.iterrows():\n",
    "    for j, p in final_df.iterrows():\n",
    "        if (v['geometry'].intersects(p['geometry'])) or (v['geometry'].crosses(p['geometry'])):\n",
    "            final_df['추정교통량_전체'].loc[j] += v['전체 추정교통량']\n",
    "            final_df['추정교통량_승용차'].loc[j] += v['승용차 추정교통량']\n",
    "            final_df['추정교통량_버스'].loc[j] += v['버스 추정교통량']\n",
    "            final_df['추정교통량_화물차'].loc[j] += v['화물차 추정교통량']\n",
    "            \n",
    "            final_df['혼잡빈도강도'].loc[j] += v['혼잡빈도강도']\n",
    "            final_df['도로수'].loc[j] += 1\n",
    "            final_df['도로평균제한속도'].loc[j] += v['max_speed']\n",
    "            final_df['도로길이'].loc[j] += v['length']\n",
    "            final_df['도로폭'].loc[j] += v['width']\n",
    "            final_df['중앙분리대'].loc[j] += v['barrier']\n",
    "            final_df['상행차로'].loc[j] += v['up_lanes']\n",
    "            final_df['하행차로'].loc[j] += v['dw_lanes']\n",
    "            final_df['일방통행'].loc[j] += v['oneway']\n",
    "\n",
    "final_df['도로평균제한속도'] /= final_df['도로수']            \n",
    "final_df['도로길이'] /= final_df['도로수']\n",
    "final_df['도로폭'] /= final_df['도로수']\n",
    "final_df['혼잡빈도강도'] /= final_df['도로수']\n",
    "final_df['중앙분리대'] /= final_df['도로수']\n",
    "final_df['상행차로'] /= final_df['도로수']\n",
    "final_df['하행차로'] /= final_df['도로수']\n",
    "final_df['일방통행'] /= final_df['도로수']"
   ]
  },
  {
   "cell_type": "code",
   "execution_count": 47,
   "metadata": {},
   "outputs": [],
   "source": [
    "final_df = final_df.fillna(0)\n",
    "final_df = final_df.rename({'등교(08-10)':'등교', '하교(14-18)':'하교', '이외유동(18-22)':'이외유동'}, axis=1)"
   ]
  },
  {
   "cell_type": "markdown",
   "metadata": {},
   "source": [
    "### 주변 격자 정보 변수"
   ]
  },
  {
   "cell_type": "code",
   "execution_count": 48,
   "metadata": {},
   "outputs": [],
   "source": [
    "df = final_df.copy()\n",
    "df = df[['gid', '주정차단속', '총인구', '유소년인구', '생산가능인구', '등교', '하교',\n",
    "         '이외유동', '어린이보호구역', '초등학교', '인접초등학교통학구', '어린이집_유치원', '학원_교습소',\n",
    "         '무인교통단속', '도로안전표지판', '횡단보도', '과속방지턱', '신호등', 'CCTV', '혼잡빈도강도',\n",
    "         '도로수', '도로길이', '도로폭', '추정교통량_전체', '추정교통량_승용차', '추정교통량_버스', '추정교통량_화물차',\n",
    "         '도로평균제한속도', '버스정류장', '중앙분리대', '상행차로', '하행차로', '일방통행']]\n",
    "\n",
    "def around(x) : \n",
    "    a = ['다사' + str(int(x['gid'][2:5]) - 1) + str(int(x['gid'][2:8]) + 1)[3:6],\n",
    "         '다사' + str(int(x['gid'][2:5]) + 0) + str(int(x['gid'][2:8]) + 1)[3:6],\n",
    "         '다사' + str(int(x['gid'][2:5]) + 1) + str(int(x['gid'][2:8]) + 1)[3:6],\n",
    "         '다사' + str(int(x['gid'][2:5]) - 1) + str(int(x['gid'][2:8]) + 0)[3:6],\n",
    "         #'다사' + str(int(x['gid'][2:5]) + 0) + str(int(x['gid'][2:8]) + 0)[3:6],\n",
    "         '다사' + str(int(x['gid'][2:5]) + 1) + str(int(x['gid'][2:8]) + 0)[3:6],\n",
    "         '다사' + str(int(x['gid'][2:5]) - 1) + str(int(x['gid'][2:8]) - 1)[3:6],\n",
    "         '다사' + str(int(x['gid'][2:5]) + 0) + str(int(x['gid'][2:8]) - 1)[3:6],\n",
    "         '다사' + str(int(x['gid'][2:5]) + 1) + str(int(x['gid'][2:8]) - 1)[3:6]]\n",
    "    a = list(set(a) & set(df['gid']))\n",
    "    return a\n",
    "\n",
    "df['around'] = df.apply(around, axis = 1)\n",
    "df = df.set_index('gid')\n",
    "\n",
    "a = ['주정차단속_around', '총인구_around', '유소년인구_around', '생산가능인구_around',\n",
    "     '등교_around', '하교_around', '이외유동_around',\n",
    "     '어린이보호구역_around', '초등학교_around', '인접초등학교통학구_around',\n",
    "     '어린이집_유치원_around', '학원_교습소_around', '무인교통단속_around',\n",
    "     '도로안전표지판_around', '횡단보도_around', '과속방지턱_around', '신호등_around', \n",
    "     'CCTV_around', '혼잡빈도강도_around', '도로수_around',\n",
    "     '도로길이_around', '도로폭_around', '추정교통량_전체_around',\n",
    "     '추정교통량_승용차_around', '추정교통량_버스_around', '추정교통량_화물차_around',\n",
    "     '도로평균제한속도_around', '버스정류장_around', '중앙분리대_around', '상행차로_around', '하행차로_around', '일방통행_around']\n",
    "\n",
    "df[a] = 0.0\n",
    "\n",
    "for i in df.index :\n",
    "    df.loc[i, a] = list(df.loc[df.loc[i, 'around'], '주정차단속' : '일방통행'].apply(np.mean, axis = 0))"
   ]
  },
  {
   "cell_type": "code",
   "execution_count": 49,
   "metadata": {},
   "outputs": [],
   "source": [
    "final_df = pd.merge(final_df, df[[i for i in df.columns if '_around' in i]].reset_index(drop = False), on = 'gid', how = 'left')"
   ]
  },
  {
   "cell_type": "code",
   "execution_count": null,
   "metadata": {},
   "outputs": [],
   "source": [
    "#final_df.to_csv('final_df.csv', index = False)\n",
    "#final_df = pd.read_csv('final_df_hazard.csv')"
   ]
  },
  {
   "cell_type": "code",
   "execution_count": null,
   "metadata": {},
   "outputs": [],
   "source": [
    "#final_df[['gid', 'accident_cnt', 'geometry', 'coordinates', 'coord_cent',\n",
    "#       'geo_cent', 'grid_id', 'min_lon', 'max_lon', 'min_lat', 'max_lat']] = df_2[['gid', 'accident_cnt', 'geometry', 'coordinates', 'coord_cent',\n",
    "#       'geo_cent', 'grid_id', 'min_lon', 'max_lon', 'min_lat', 'max_lat']]"
   ]
  },
  {
   "cell_type": "code",
   "execution_count": 50,
   "metadata": {},
   "outputs": [
    {
     "data": {
      "text/plain": [
       "Index(['gid', 'accident_cnt', 'geometry', 'coordinates', 'coord_cent',\n",
       "       'geo_cent', 'grid_id', 'min_lon', 'max_lon', 'min_lat', 'max_lat',\n",
       "       '사고정규화', '주정차단속', '총인구', '유소년인구', '생산가능인구', '등교', '하교', '이외유동',\n",
       "       '어린이보호구역', '초등학교', '인접초등학교통학구', '어린이집_유치원', '학원_교습소', '무인교통단속',\n",
       "       '도로안전표지판', '횡단보도', '과속방지턱', '신호등', 'CCTV', '버스정류장', '추정교통량_전체',\n",
       "       '추정교통량_승용차', '추정교통량_버스', '추정교통량_화물차', '혼잡빈도강도', '도로수', '도로평균제한속도',\n",
       "       '도로길이', '도로폭', '중앙분리대', '일방통행', '상행차로', '하행차로', '주정차단속_around',\n",
       "       '총인구_around', '유소년인구_around', '생산가능인구_around', '등교_around', '하교_around',\n",
       "       '이외유동_around', '어린이보호구역_around', '초등학교_around', '인접초등학교통학구_around',\n",
       "       '어린이집_유치원_around', '학원_교습소_around', '무인교통단속_around', '도로안전표지판_around',\n",
       "       '횡단보도_around', '과속방지턱_around', '신호등_around', 'CCTV_around',\n",
       "       '혼잡빈도강도_around', '도로수_around', '도로길이_around', '도로폭_around',\n",
       "       '추정교통량_전체_around', '추정교통량_승용차_around', '추정교통량_버스_around',\n",
       "       '추정교통량_화물차_around', '도로평균제한속도_around', '버스정류장_around', '중앙분리대_around',\n",
       "       '상행차로_around', '하행차로_around', '일방통행_around'],\n",
       "      dtype='object')"
      ]
     },
     "execution_count": 50,
     "metadata": {},
     "output_type": "execute_result"
    }
   ],
   "source": [
    "final_df.columns"
   ]
  },
  {
   "cell_type": "code",
   "execution_count": 51,
   "metadata": {},
   "outputs": [
    {
     "data": {
      "text/plain": [
       "(4510, 76)"
      ]
     },
     "execution_count": 51,
     "metadata": {},
     "output_type": "execute_result"
    }
   ],
   "source": [
    "final_df.shape"
   ]
  },
  {
   "cell_type": "code",
   "execution_count": 57,
   "metadata": {},
   "outputs": [],
   "source": [
    "for i in final_df.columns[12:]:\n",
    "    final_df[i] /= final_df[i].max()"
   ]
  },
  {
   "cell_type": "markdown",
   "metadata": {},
   "source": [
    "# 도로위험도 지수 산출"
   ]
  },
  {
   "cell_type": "markdown",
   "metadata": {},
   "source": [
    "### 전처리"
   ]
  },
  {
   "cell_type": "code",
   "execution_count": 128,
   "metadata": {},
   "outputs": [],
   "source": [
    "data1 = final_df.copy()"
   ]
  },
  {
   "cell_type": "code",
   "execution_count": 129,
   "metadata": {},
   "outputs": [],
   "source": [
    "data1['교통사고'] = 0\n",
    "for i in range(len(data1)):\n",
    "    if data1.loc[i, 'accident_cnt'] > 0 :\n",
    "        data1.loc[i, '교통사고'] = 1"
   ]
  },
  {
   "cell_type": "code",
   "execution_count": 130,
   "metadata": {},
   "outputs": [],
   "source": [
    "data1 = data1.drop(['gid', 'geometry', 'coordinates', 'coord_cent', 'geo_cent',\n",
    "                    'grid_id', 'min_lon', 'max_lon', 'min_lat', 'max_lat'], axis = 1)"
   ]
  },
  {
   "cell_type": "code",
   "execution_count": 131,
   "metadata": {},
   "outputs": [],
   "source": [
    "data1 = data1[(data1['어린이보호구역'] == 0) & (data1['도로수'] > 0)] #어린이 보호구역이 아니며 도로가 있는 곳만"
   ]
  },
  {
   "cell_type": "code",
   "execution_count": 132,
   "metadata": {},
   "outputs": [
    {
     "data": {
      "text/plain": [
       "(1678, 68)"
      ]
     },
     "execution_count": 132,
     "metadata": {},
     "output_type": "execute_result"
    }
   ],
   "source": [
    "data1.shape"
   ]
  },
  {
   "cell_type": "code",
   "execution_count": 133,
   "metadata": {},
   "outputs": [
    {
     "data": {
      "text/plain": [
       "Index(['accident_cnt', '사고정규화', '주정차단속', '총인구', '유소년인구', '생산가능인구', '등교', '하교',\n",
       "       '이외유동', '어린이보호구역', '초등학교', '인접초등학교통학구', '어린이집_유치원', '학원_교습소', '무인교통단속',\n",
       "       '도로안전표지판', '횡단보도', '과속방지턱', '신호등', 'CCTV', '버스정류장', '추정교통량_전체',\n",
       "       '추정교통량_승용차', '추정교통량_버스', '추정교통량_화물차', '혼잡빈도강도', '도로수', '도로평균제한속도',\n",
       "       '도로길이', '도로폭', '중앙분리대', '일방통행', '상행차로', '하행차로', '주정차단속_around',\n",
       "       '총인구_around', '유소년인구_around', '생산가능인구_around', '등교_around', '하교_around',\n",
       "       '이외유동_around', '어린이보호구역_around', '초등학교_around', '인접초등학교통학구_around',\n",
       "       '어린이집_유치원_around', '학원_교습소_around', '무인교통단속_around', '도로안전표지판_around',\n",
       "       '횡단보도_around', '과속방지턱_around', '신호등_around', 'CCTV_around',\n",
       "       '혼잡빈도강도_around', '도로수_around', '도로길이_around', '도로폭_around',\n",
       "       '추정교통량_전체_around', '추정교통량_승용차_around', '추정교통량_버스_around',\n",
       "       '추정교통량_화물차_around', '도로평균제한속도_around', '버스정류장_around', '중앙분리대_around',\n",
       "       '상행차로_around', '하행차로_around', '일방통행_around', 'w_hazard', '교통사고'],\n",
       "      dtype='object')"
      ]
     },
     "execution_count": 133,
     "metadata": {},
     "output_type": "execute_result"
    }
   ],
   "source": [
    "data1.columns"
   ]
  },
  {
   "cell_type": "code",
   "execution_count": 134,
   "metadata": {},
   "outputs": [],
   "source": [
    "data1 = data1.drop(['어린이보호구역', '교통사고', '사고정규화'], axis = 1).reset_index(drop = True)"
   ]
  },
  {
   "cell_type": "markdown",
   "metadata": {},
   "source": [
    "### 다중공선성 확인"
   ]
  },
  {
   "cell_type": "markdown",
   "metadata": {},
   "source": [
    "- 주변 정보 변수들 중 기존 변수와 상관성이 높은 것을 제거"
   ]
  },
  {
   "cell_type": "code",
   "execution_count": 135,
   "metadata": {},
   "outputs": [],
   "source": [
    "X, y = data1.drop('accident_cnt', axis = 1), data1['accident_cnt']"
   ]
  },
  {
   "cell_type": "code",
   "execution_count": 136,
   "metadata": {},
   "outputs": [
    {
     "name": "stdout",
     "output_type": "stream",
     "text": [
      "['생산가능인구_around', '총인구_around', '추정교통량_승용차_around', '추정교통량_버스_around', '유소년인구_around', '이외유동_around', '혼잡빈도강도_around', '일방통행_around', '추정교통량_전체_around', '인접초등학교통학구_around', '등교_around', '하교_around', '도로길이_around', '하행차로_around', '어린이집_유치원_around', '도로평균제한속도_around', '추정교통량_화물차_around']\n"
     ]
    }
   ],
   "source": [
    "high_corr_around = []\n",
    "\n",
    "for i in [c for c in X.columns if 'around' not in c]:\n",
    "    for j in [c for c in X.columns if 'around'in c]:\n",
    "        corr = X[[i, j]].corr().values[0,1]\n",
    "\n",
    "        if corr > 0.5:            \n",
    "            high_corr_around.append(j)\n",
    "\n",
    "print(list(set(high_corr_around)))"
   ]
  },
  {
   "cell_type": "code",
   "execution_count": 137,
   "metadata": {},
   "outputs": [],
   "source": [
    "# 기존 변수와 상관성이 높은 주변 정보 변수 제거\n",
    "X = X.drop(list(set(high_corr_around)), axis = 1)"
   ]
  },
  {
   "cell_type": "markdown",
   "metadata": {},
   "source": [
    "- VIF 값이 10보다 큰 변수들을 확인 후 상관성 높은 변수 쌍들을 확인"
   ]
  },
  {
   "cell_type": "code",
   "execution_count": 138,
   "metadata": {},
   "outputs": [
    {
     "data": {
      "text/html": [
       "<div>\n",
       "<style scoped>\n",
       "    .dataframe tbody tr th:only-of-type {\n",
       "        vertical-align: middle;\n",
       "    }\n",
       "\n",
       "    .dataframe tbody tr th {\n",
       "        vertical-align: top;\n",
       "    }\n",
       "\n",
       "    .dataframe thead th {\n",
       "        text-align: right;\n",
       "    }\n",
       "</style>\n",
       "<table border=\"1\" class=\"dataframe\">\n",
       "  <thead>\n",
       "    <tr style=\"text-align: right;\">\n",
       "      <th></th>\n",
       "      <th>VIF Factor</th>\n",
       "      <th>features</th>\n",
       "    </tr>\n",
       "  </thead>\n",
       "  <tbody>\n",
       "    <tr>\n",
       "      <th>28</th>\n",
       "      <td>inf</td>\n",
       "      <td>중앙분리대</td>\n",
       "    </tr>\n",
       "    <tr>\n",
       "      <th>45</th>\n",
       "      <td>inf</td>\n",
       "      <td>중앙분리대_around</td>\n",
       "    </tr>\n",
       "    <tr>\n",
       "      <th>43</th>\n",
       "      <td>inf</td>\n",
       "      <td>도로폭_around</td>\n",
       "    </tr>\n",
       "    <tr>\n",
       "      <th>27</th>\n",
       "      <td>inf</td>\n",
       "      <td>도로폭</td>\n",
       "    </tr>\n",
       "    <tr>\n",
       "      <th>19</th>\n",
       "      <td>2.397445e+12</td>\n",
       "      <td>추정교통량_전체</td>\n",
       "    </tr>\n",
       "    <tr>\n",
       "      <th>20</th>\n",
       "      <td>1.536802e+12</td>\n",
       "      <td>추정교통량_승용차</td>\n",
       "    </tr>\n",
       "    <tr>\n",
       "      <th>22</th>\n",
       "      <td>7.294519e+10</td>\n",
       "      <td>추정교통량_화물차</td>\n",
       "    </tr>\n",
       "    <tr>\n",
       "      <th>21</th>\n",
       "      <td>3.307798e+09</td>\n",
       "      <td>추정교통량_버스</td>\n",
       "    </tr>\n",
       "    <tr>\n",
       "      <th>2</th>\n",
       "      <td>3.504100e+02</td>\n",
       "      <td>총인구</td>\n",
       "    </tr>\n",
       "    <tr>\n",
       "      <th>4</th>\n",
       "      <td>2.657200e+02</td>\n",
       "      <td>생산가능인구</td>\n",
       "    </tr>\n",
       "    <tr>\n",
       "      <th>6</th>\n",
       "      <td>1.303700e+02</td>\n",
       "      <td>하교</td>\n",
       "    </tr>\n",
       "    <tr>\n",
       "      <th>5</th>\n",
       "      <td>6.153000e+01</td>\n",
       "      <td>등교</td>\n",
       "    </tr>\n",
       "    <tr>\n",
       "      <th>0</th>\n",
       "      <td>4.965000e+01</td>\n",
       "      <td>Intercept</td>\n",
       "    </tr>\n",
       "    <tr>\n",
       "      <th>7</th>\n",
       "      <td>4.662000e+01</td>\n",
       "      <td>이외유동</td>\n",
       "    </tr>\n",
       "    <tr>\n",
       "      <th>30</th>\n",
       "      <td>2.438000e+01</td>\n",
       "      <td>상행차로</td>\n",
       "    </tr>\n",
       "    <tr>\n",
       "      <th>46</th>\n",
       "      <td>2.097000e+01</td>\n",
       "      <td>상행차로_around</td>\n",
       "    </tr>\n",
       "    <tr>\n",
       "      <th>3</th>\n",
       "      <td>1.474000e+01</td>\n",
       "      <td>유소년인구</td>\n",
       "    </tr>\n",
       "  </tbody>\n",
       "</table>\n",
       "</div>"
      ],
      "text/plain": [
       "      VIF Factor      features\n",
       "28           inf         중앙분리대\n",
       "45           inf  중앙분리대_around\n",
       "43           inf    도로폭_around\n",
       "27           inf           도로폭\n",
       "19  2.397445e+12      추정교통량_전체\n",
       "20  1.536802e+12     추정교통량_승용차\n",
       "22  7.294519e+10     추정교통량_화물차\n",
       "21  3.307798e+09      추정교통량_버스\n",
       "2   3.504100e+02           총인구\n",
       "4   2.657200e+02        생산가능인구\n",
       "6   1.303700e+02            하교\n",
       "5   6.153000e+01            등교\n",
       "0   4.965000e+01     Intercept\n",
       "7   4.662000e+01          이외유동\n",
       "30  2.438000e+01          상행차로\n",
       "46  2.097000e+01   상행차로_around\n",
       "3   1.474000e+01         유소년인구"
      ]
     },
     "execution_count": 138,
     "metadata": {},
     "output_type": "execute_result"
    }
   ],
   "source": [
    "y1, X1 = dmatrices('accident_cnt ~ '+'+'.join(X.columns), data=data1, return_type = \"dataframe\")\n",
    "vif = pd.DataFrame()\n",
    "vif[\"VIF Factor\"] = [format(variance_inflation_factor(X1.values, i), '.2f') for i in range(X1.shape[1])]\n",
    "vif[\"features\"] = X1.columns\n",
    "vif['VIF Factor'] = vif['VIF Factor'].astype('float')\n",
    "vif = vif[vif['VIF Factor'] > 10]\n",
    "#high_corr_around = [i for i in vif['features'] if 'around' in i]\n",
    "#print(high_corr_around)\n",
    "vif.sort_values(by = 'VIF Factor', ascending = False)"
   ]
  },
  {
   "cell_type": "code",
   "execution_count": 139,
   "metadata": {},
   "outputs": [
    {
     "name": "stdout",
     "output_type": "stream",
     "text": [
      "총인구 유소년인구\n",
      "총인구 생산가능인구\n",
      "유소년인구 총인구\n",
      "유소년인구 생산가능인구\n",
      "생산가능인구 총인구\n",
      "생산가능인구 유소년인구\n",
      "등교 하교\n",
      "등교 이외유동\n",
      "하교 등교\n",
      "하교 이외유동\n",
      "이외유동 등교\n",
      "이외유동 하교\n",
      "추정교통량_전체 추정교통량_승용차\n",
      "추정교통량_전체 추정교통량_버스\n",
      "추정교통량_전체 추정교통량_화물차\n",
      "추정교통량_승용차 추정교통량_전체\n",
      "추정교통량_승용차 추정교통량_버스\n",
      "추정교통량_승용차 추정교통량_화물차\n",
      "추정교통량_버스 추정교통량_전체\n",
      "추정교통량_버스 추정교통량_승용차\n",
      "추정교통량_버스 추정교통량_화물차\n",
      "추정교통량_화물차 추정교통량_전체\n",
      "추정교통량_화물차 추정교통량_승용차\n",
      "추정교통량_화물차 추정교통량_버스\n",
      "도로폭 중앙분리대\n",
      "도로폭 상행차로\n",
      "중앙분리대 도로폭\n",
      "중앙분리대 상행차로\n",
      "상행차로 도로폭\n",
      "상행차로 중앙분리대\n",
      "도로폭_around 중앙분리대_around\n",
      "도로폭_around 상행차로_around\n",
      "중앙분리대_around 도로폭_around\n",
      "중앙분리대_around 상행차로_around\n",
      "상행차로_around 도로폭_around\n",
      "상행차로_around 중앙분리대_around\n"
     ]
    }
   ],
   "source": [
    "for i in vif['features']:\n",
    "    for j in vif['features']:\n",
    "        try:\n",
    "            if i != j and i != 'intercept' and j != 'intercept' and  X[[i, j]].corr().values[0,1] > 0.7:\n",
    "                print(i, j)\n",
    "        except:\n",
    "            pass"
   ]
  },
  {
   "cell_type": "markdown",
   "metadata": {},
   "source": [
    "- 높은 상관성을 보이는 변수들 간의 correlation plot 시각화"
   ]
  },
  {
   "cell_type": "code",
   "execution_count": 140,
   "metadata": {
    "scrolled": false
   },
   "outputs": [
    {
     "data": {
      "text/plain": [
       "<AxesSubplot:>"
      ]
     },
     "execution_count": 140,
     "metadata": {},
     "output_type": "execute_result"
    },
    {
     "data": {
      "image/png": "[encoded data removed]",
      "text/plain": [
       "<Figure size 576x432 with 2 Axes>"
      ]
     },
     "metadata": {
      "needs_background": "light"
     },
     "output_type": "display_data"
    }
   ],
   "source": [
    "plt.figure(figsize = (8,6))\n",
    "sns.heatmap(data = X[['추정교통량_전체', '추정교통량_승용차', \n",
    "                      '추정교통량_화물차', '추정교통량_버스']].corr(), annot= True, cmap = 'Blues')"
   ]
  },
  {
   "cell_type": "markdown",
   "metadata": {},
   "source": [
    "> 교통량 분류 간의 상관성이 아주 높은 것을 확인 할 수 있음 -> '추정교통량_전체' 변수만을 사용"
   ]
  },
  {
   "cell_type": "code",
   "execution_count": 141,
   "metadata": {},
   "outputs": [
    {
     "data": {
      "text/plain": [
       "<AxesSubplot:>"
      ]
     },
     "execution_count": 141,
     "metadata": {},
     "output_type": "execute_result"
    },
    {
     "data": {
      "image/png": "[encoded data removed]",
      "text/plain": [
       "<Figure size 576x432 with 2 Axes>"
      ]
     },
     "metadata": {
      "needs_background": "light"
     },
     "output_type": "display_data"
    }
   ],
   "source": [
    "plt.figure(figsize = (8,6))\n",
    "sns.heatmap(data = X[['총인구', '유소년인구', '생산가능인구']].corr(), annot= True, cmap = 'Blues')"
   ]
  },
  {
   "cell_type": "markdown",
   "metadata": {},
   "source": [
    "> 인구 분류 간의 상관성이 아주 높은 것을 확인 -> '총인구' 변수만을 사용"
   ]
  },
  {
   "cell_type": "code",
   "execution_count": 142,
   "metadata": {},
   "outputs": [
    {
     "data": {
      "text/plain": [
       "<AxesSubplot:>"
      ]
     },
     "execution_count": 142,
     "metadata": {},
     "output_type": "execute_result"
    },
    {
     "data": {
      "image/png": "[encoded data removed]",
      "text/plain": [
       "<Figure size 576x432 with 2 Axes>"
      ]
     },
     "metadata": {
      "needs_background": "light"
     },
     "output_type": "display_data"
    }
   ],
   "source": [
    "plt.figure(figsize = (8,6))\n",
    "sns.heatmap(data = X[['등교', '하교', '이외유동']].corr(), annot= True, cmap = 'Blues')"
   ]
  },
  {
   "cell_type": "markdown",
   "metadata": {},
   "source": [
    "> 인구 유동량의 시간대 분류 변수간 상관성이 아주 높은 것을 확인할 수 있음 -> '하교' 변수만을 사용 (근거는 오산시 보행안전확보 연구 결과)"
   ]
  },
  {
   "cell_type": "code",
   "execution_count": 143,
   "metadata": {},
   "outputs": [
    {
     "data": {
      "text/plain": [
       "<AxesSubplot:>"
      ]
     },
     "execution_count": 143,
     "metadata": {},
     "output_type": "execute_result"
    },
    {
     "data": {
      "image/png": "[encoded data removed]",
      "text/plain": [
       "<Figure size 576x432 with 2 Axes>"
      ]
     },
     "metadata": {
      "needs_background": "light"
     },
     "output_type": "display_data"
    }
   ],
   "source": [
    "plt.figure(figsize = (8,6))\n",
    "sns.heatmap(data = X[['도로폭', '중앙분리대', '상행차로', '하행차로', '도로폭_around',  '도로평균제한속도']].corr(), annot= True, cmap = 'Blues')"
   ]
  },
  {
   "cell_type": "markdown",
   "metadata": {},
   "source": [
    "- VIF 값 10 이상인 변수들을 제거했을 때, 이외 변수들 간의 다중공선성 정도는 심하지 않다는 것을 확인"
   ]
  },
  {
   "cell_type": "code",
   "execution_count": 144,
   "metadata": {},
   "outputs": [
    {
     "data": {
      "text/html": [
       "<div>\n",
       "<style scoped>\n",
       "    .dataframe tbody tr th:only-of-type {\n",
       "        vertical-align: middle;\n",
       "    }\n",
       "\n",
       "    .dataframe tbody tr th {\n",
       "        vertical-align: top;\n",
       "    }\n",
       "\n",
       "    .dataframe thead th {\n",
       "        text-align: right;\n",
       "    }\n",
       "</style>\n",
       "<table border=\"1\" class=\"dataframe\">\n",
       "  <thead>\n",
       "    <tr style=\"text-align: right;\">\n",
       "      <th></th>\n",
       "      <th>VIF Factor</th>\n",
       "      <th>features</th>\n",
       "    </tr>\n",
       "  </thead>\n",
       "  <tbody>\n",
       "    <tr>\n",
       "      <th>0</th>\n",
       "      <td>25.45</td>\n",
       "      <td>Intercept</td>\n",
       "    </tr>\n",
       "    <tr>\n",
       "      <th>24</th>\n",
       "      <td>3.06</td>\n",
       "      <td>횡단보도_around</td>\n",
       "    </tr>\n",
       "    <tr>\n",
       "      <th>28</th>\n",
       "      <td>2.65</td>\n",
       "      <td>도로수_around</td>\n",
       "    </tr>\n",
       "    <tr>\n",
       "      <th>26</th>\n",
       "      <td>2.55</td>\n",
       "      <td>신호등_around</td>\n",
       "    </tr>\n",
       "    <tr>\n",
       "      <th>8</th>\n",
       "      <td>2.25</td>\n",
       "      <td>횡단보도</td>\n",
       "    </tr>\n",
       "    <tr>\n",
       "      <th>10</th>\n",
       "      <td>2.13</td>\n",
       "      <td>신호등</td>\n",
       "    </tr>\n",
       "    <tr>\n",
       "      <th>14</th>\n",
       "      <td>2.04</td>\n",
       "      <td>도로수</td>\n",
       "    </tr>\n",
       "    <tr>\n",
       "      <th>22</th>\n",
       "      <td>1.96</td>\n",
       "      <td>무인교통단속_around</td>\n",
       "    </tr>\n",
       "    <tr>\n",
       "      <th>30</th>\n",
       "      <td>1.92</td>\n",
       "      <td>w_hazard</td>\n",
       "    </tr>\n",
       "    <tr>\n",
       "      <th>27</th>\n",
       "      <td>1.83</td>\n",
       "      <td>CCTV_around</td>\n",
       "    </tr>\n",
       "    <tr>\n",
       "      <th>18</th>\n",
       "      <td>1.77</td>\n",
       "      <td>주정차단속_around</td>\n",
       "    </tr>\n",
       "    <tr>\n",
       "      <th>16</th>\n",
       "      <td>1.68</td>\n",
       "      <td>도로길이</td>\n",
       "    </tr>\n",
       "    <tr>\n",
       "      <th>17</th>\n",
       "      <td>1.66</td>\n",
       "      <td>일방통행</td>\n",
       "    </tr>\n",
       "    <tr>\n",
       "      <th>23</th>\n",
       "      <td>1.65</td>\n",
       "      <td>도로안전표지판_around</td>\n",
       "    </tr>\n",
       "    <tr>\n",
       "      <th>15</th>\n",
       "      <td>1.56</td>\n",
       "      <td>도로평균제한속도</td>\n",
       "    </tr>\n",
       "    <tr>\n",
       "      <th>21</th>\n",
       "      <td>1.54</td>\n",
       "      <td>학원_교습소_around</td>\n",
       "    </tr>\n",
       "    <tr>\n",
       "      <th>19</th>\n",
       "      <td>1.42</td>\n",
       "      <td>어린이보호구역_around</td>\n",
       "    </tr>\n",
       "    <tr>\n",
       "      <th>7</th>\n",
       "      <td>1.42</td>\n",
       "      <td>도로안전표지판</td>\n",
       "    </tr>\n",
       "    <tr>\n",
       "      <th>29</th>\n",
       "      <td>1.32</td>\n",
       "      <td>버스정류장_around</td>\n",
       "    </tr>\n",
       "    <tr>\n",
       "      <th>6</th>\n",
       "      <td>1.30</td>\n",
       "      <td>무인교통단속</td>\n",
       "    </tr>\n",
       "    <tr>\n",
       "      <th>1</th>\n",
       "      <td>1.29</td>\n",
       "      <td>주정차단속</td>\n",
       "    </tr>\n",
       "    <tr>\n",
       "      <th>11</th>\n",
       "      <td>1.26</td>\n",
       "      <td>CCTV</td>\n",
       "    </tr>\n",
       "    <tr>\n",
       "      <th>20</th>\n",
       "      <td>1.23</td>\n",
       "      <td>초등학교_around</td>\n",
       "    </tr>\n",
       "    <tr>\n",
       "      <th>5</th>\n",
       "      <td>1.21</td>\n",
       "      <td>학원_교습소</td>\n",
       "    </tr>\n",
       "    <tr>\n",
       "      <th>25</th>\n",
       "      <td>1.20</td>\n",
       "      <td>과속방지턱_around</td>\n",
       "    </tr>\n",
       "    <tr>\n",
       "      <th>13</th>\n",
       "      <td>1.18</td>\n",
       "      <td>혼잡빈도강도</td>\n",
       "    </tr>\n",
       "    <tr>\n",
       "      <th>4</th>\n",
       "      <td>1.12</td>\n",
       "      <td>어린이집_유치원</td>\n",
       "    </tr>\n",
       "    <tr>\n",
       "      <th>12</th>\n",
       "      <td>1.12</td>\n",
       "      <td>버스정류장</td>\n",
       "    </tr>\n",
       "    <tr>\n",
       "      <th>9</th>\n",
       "      <td>1.07</td>\n",
       "      <td>과속방지턱</td>\n",
       "    </tr>\n",
       "    <tr>\n",
       "      <th>2</th>\n",
       "      <td>1.06</td>\n",
       "      <td>초등학교</td>\n",
       "    </tr>\n",
       "    <tr>\n",
       "      <th>3</th>\n",
       "      <td>1.03</td>\n",
       "      <td>인접초등학교통학구</td>\n",
       "    </tr>\n",
       "  </tbody>\n",
       "</table>\n",
       "</div>"
      ],
      "text/plain": [
       "    VIF Factor        features\n",
       "0        25.45       Intercept\n",
       "24        3.06     횡단보도_around\n",
       "28        2.65      도로수_around\n",
       "26        2.55      신호등_around\n",
       "8         2.25            횡단보도\n",
       "10        2.13             신호등\n",
       "14        2.04             도로수\n",
       "22        1.96   무인교통단속_around\n",
       "30        1.92        w_hazard\n",
       "27        1.83     CCTV_around\n",
       "18        1.77    주정차단속_around\n",
       "16        1.68            도로길이\n",
       "17        1.66            일방통행\n",
       "23        1.65  도로안전표지판_around\n",
       "15        1.56        도로평균제한속도\n",
       "21        1.54   학원_교습소_around\n",
       "19        1.42  어린이보호구역_around\n",
       "7         1.42         도로안전표지판\n",
       "29        1.32    버스정류장_around\n",
       "6         1.30          무인교통단속\n",
       "1         1.29           주정차단속\n",
       "11        1.26            CCTV\n",
       "20        1.23     초등학교_around\n",
       "5         1.21          학원_교습소\n",
       "25        1.20    과속방지턱_around\n",
       "13        1.18          혼잡빈도강도\n",
       "4         1.12        어린이집_유치원\n",
       "12        1.12           버스정류장\n",
       "9         1.07           과속방지턱\n",
       "2         1.06            초등학교\n",
       "3         1.03       인접초등학교통학구"
      ]
     },
     "execution_count": 144,
     "metadata": {},
     "output_type": "execute_result"
    }
   ],
   "source": [
    "y1, X1 = dmatrices('accident_cnt ~ '+'+'.join(X.drop(['추정교통량_전체', '추정교통량_승용차','추정교통량_화물차', '추정교통량_버스',\n",
    "                                                      '총인구', '유소년인구', '생산가능인구', '등교', '하교', '이외유동', \n",
    "                                                      '도로폭', '중앙분리대', '상행차로', '하행차로',\n",
    "                                                      '도로폭_around', '중앙분리대_around', '상행차로_around', ], axis = 1).columns), data=data1, return_type = \"dataframe\")\n",
    "vif = pd.DataFrame()\n",
    "vif[\"VIF Factor\"] = [format(variance_inflation_factor(X1.values, i), '.2f') for i in range(X1.shape[1])]\n",
    "vif[\"features\"] = X1.columns\n",
    "vif['VIF Factor'] = vif['VIF Factor'].astype('float')\n",
    "#vif = vif[vif['VIF Factor'] > 10]\n",
    "#high_corr_around = [i for i in vif['features'] if 'around' in i]\n",
    "#print(high_corr_around)\n",
    "vif.sort_values(by = 'VIF Factor', ascending = False)\n",
    "\n",
    "# correlation plot 시각화한 변수 외에는 서로 상관성이 높은 변수가 보이지 않음"
   ]
  },
  {
   "cell_type": "markdown",
   "metadata": {},
   "source": [
    "- 추정교통량_전체, 총인구, 하교, 도로폭, 도로폭_around 변수만을 사용하고 이외 상관성 높은 변수들 삭제"
   ]
  },
  {
   "cell_type": "code",
   "execution_count": 145,
   "metadata": {},
   "outputs": [],
   "source": [
    "X = X.drop(['추정교통량_승용차','추정교통량_화물차', '추정교통량_버스',\n",
    "            '유소년인구', '생산가능인구', '등교', '이외유동', \n",
    "            '중앙분리대', '상행차로', '하행차로',\n",
    "            '중앙분리대_around', '상행차로_around', ], axis = 1)"
   ]
  },
  {
   "cell_type": "code",
   "execution_count": 146,
   "metadata": {},
   "outputs": [
    {
     "data": {
      "text/plain": [
       "'accident_cnt ~ 주정차단속+총인구+하교+초등학교+인접초등학교통학구+어린이집_유치원+학원_교습소+무인교통단속+도로안전표지판+횡단보도+과속방지턱+신호등+CCTV+버스정류장+추정교통량_전체+혼잡빈도강도+도로수+도로평균제한속도+도로길이+도로폭+일방통행+주정차단속_around+어린이보호구역_around+초등학교_around+학원_교습소_around+무인교통단속_around+도로안전표지판_around+횡단보도_around+과속방지턱_around+신호등_around+CCTV_around+도로수_around+도로폭_around+버스정류장_around+w_hazard'"
      ]
     },
     "execution_count": 146,
     "metadata": {},
     "output_type": "execute_result"
    }
   ],
   "source": [
    "'accident_cnt ~ '+'+'.join(X.columns)"
   ]
  },
  {
   "cell_type": "markdown",
   "metadata": {},
   "source": [
    "- 다중공선성 문제 해결 후, 사용할 변수(X.columns) 35개 최종 결정"
   ]
  },
  {
   "cell_type": "code",
   "execution_count": 147,
   "metadata": {},
   "outputs": [
    {
     "data": {
      "text/html": [
       "<div>\n",
       "<style scoped>\n",
       "    .dataframe tbody tr th:only-of-type {\n",
       "        vertical-align: middle;\n",
       "    }\n",
       "\n",
       "    .dataframe tbody tr th {\n",
       "        vertical-align: top;\n",
       "    }\n",
       "\n",
       "    .dataframe thead th {\n",
       "        text-align: right;\n",
       "    }\n",
       "</style>\n",
       "<table border=\"1\" class=\"dataframe\">\n",
       "  <thead>\n",
       "    <tr style=\"text-align: right;\">\n",
       "      <th></th>\n",
       "      <th>VIF Factor</th>\n",
       "      <th>features</th>\n",
       "    </tr>\n",
       "  </thead>\n",
       "  <tbody>\n",
       "    <tr>\n",
       "      <th>0</th>\n",
       "      <td>41.50</td>\n",
       "      <td>Intercept</td>\n",
       "    </tr>\n",
       "    <tr>\n",
       "      <th>32</th>\n",
       "      <td>3.39</td>\n",
       "      <td>도로수_around</td>\n",
       "    </tr>\n",
       "    <tr>\n",
       "      <th>28</th>\n",
       "      <td>3.09</td>\n",
       "      <td>횡단보도_around</td>\n",
       "    </tr>\n",
       "    <tr>\n",
       "      <th>15</th>\n",
       "      <td>2.90</td>\n",
       "      <td>추정교통량_전체</td>\n",
       "    </tr>\n",
       "    <tr>\n",
       "      <th>33</th>\n",
       "      <td>2.73</td>\n",
       "      <td>도로폭_around</td>\n",
       "    </tr>\n",
       "    <tr>\n",
       "      <th>17</th>\n",
       "      <td>2.73</td>\n",
       "      <td>도로수</td>\n",
       "    </tr>\n",
       "    <tr>\n",
       "      <th>30</th>\n",
       "      <td>2.61</td>\n",
       "      <td>신호등_around</td>\n",
       "    </tr>\n",
       "    <tr>\n",
       "      <th>10</th>\n",
       "      <td>2.27</td>\n",
       "      <td>횡단보도</td>\n",
       "    </tr>\n",
       "    <tr>\n",
       "      <th>18</th>\n",
       "      <td>2.17</td>\n",
       "      <td>도로평균제한속도</td>\n",
       "    </tr>\n",
       "    <tr>\n",
       "      <th>12</th>\n",
       "      <td>2.16</td>\n",
       "      <td>신호등</td>\n",
       "    </tr>\n",
       "  </tbody>\n",
       "</table>\n",
       "</div>"
      ],
      "text/plain": [
       "    VIF Factor     features\n",
       "0        41.50    Intercept\n",
       "32        3.39   도로수_around\n",
       "28        3.09  횡단보도_around\n",
       "15        2.90     추정교통량_전체\n",
       "33        2.73   도로폭_around\n",
       "17        2.73          도로수\n",
       "30        2.61   신호등_around\n",
       "10        2.27         횡단보도\n",
       "18        2.17     도로평균제한속도\n",
       "12        2.16          신호등"
      ]
     },
     "execution_count": 147,
     "metadata": {},
     "output_type": "execute_result"
    }
   ],
   "source": [
    "y1, X1 = dmatrices('accident_cnt ~ '+'+'.join(X.columns), data=data1, return_type = \"dataframe\")\n",
    "vif = pd.DataFrame()\n",
    "vif[\"VIF Factor\"] = [format(variance_inflation_factor(X1.values, i), '.2f') for i in range(X1.shape[1])]\n",
    "vif[\"features\"] = X1.columns\n",
    "vif['VIF Factor'] = vif['VIF Factor'].astype('float')\n",
    "vif.sort_values(by = 'VIF Factor', ascending = False).head(10)"
   ]
  },
  {
   "cell_type": "code",
   "execution_count": 148,
   "metadata": {},
   "outputs": [
    {
     "name": "stdout",
     "output_type": "stream",
     "text": [
      "(1678, 36)\n"
     ]
    }
   ],
   "source": [
    "data1 = data1[list(X.columns) + ['accident_cnt']]\n",
    "data2 = data1.copy()\n",
    "print(data1.shape)"
   ]
  },
  {
   "cell_type": "markdown",
   "metadata": {},
   "source": [
    "## 음이항 다중회귀모형 적합"
   ]
  },
  {
   "cell_type": "code",
   "execution_count": 97,
   "metadata": {},
   "outputs": [
    {
     "data": {
      "text/plain": [
       "Index(['주정차단속', '총인구', '하교', '초등학교', '인접초등학교통학구', '어린이집_유치원', '학원_교습소',\n",
       "       '무인교통단속', '도로안전표지판', '횡단보도', '과속방지턱', '신호등', 'CCTV', '버스정류장',\n",
       "       '추정교통량_전체', '혼잡빈도강도', '도로수', '도로평균제한속도', '도로길이', '도로폭', '일방통행',\n",
       "       '주정차단속_around', '어린이보호구역_around', '초등학교_around', '학원_교습소_around',\n",
       "       '무인교통단속_around', '도로안전표지판_around', '횡단보도_around', '과속방지턱_around',\n",
       "       '신호등_around', 'CCTV_around', '도로수_around', '도로폭_around', '버스정류장_around',\n",
       "       'accident_cnt'],\n",
       "      dtype='object')"
      ]
     },
     "execution_count": 97,
     "metadata": {},
     "output_type": "execute_result"
    }
   ],
   "source": [
    "data1.columns"
   ]
  },
  {
   "cell_type": "markdown",
   "metadata": {},
   "source": [
    "- 어린이 교통사고 추정시 시설물과 관련된 변수는 설명변수에서 제거"
   ]
  },
  {
   "cell_type": "code",
   "execution_count": 98,
   "metadata": {},
   "outputs": [],
   "source": [
    "# 시설물과 관련된 변수 삭제\n",
    "\n",
    "data1 = data1.drop(['무인교통단속', '도로안전표지판', '과속방지턱', '신호등', 'CCTV',\n",
    "                    '무인교통단속_around', '도로안전표지판_around', '과속방지턱_around', '신호등_around', 'CCTV_around'], axis = 1)"
   ]
  },
  {
   "cell_type": "markdown",
   "metadata": {},
   "source": [
    "### 변수 선택"
   ]
  },
  {
   "cell_type": "markdown",
   "metadata": {},
   "source": [
    "- Forward Selection"
   ]
  },
  {
   "cell_type": "code",
   "execution_count": 99,
   "metadata": {},
   "outputs": [
    {
     "name": "stdout",
     "output_type": "stream",
     "text": [
      "12\n"
     ]
    }
   ],
   "source": [
    "df = data1\n",
    "y = data1['accident_cnt'] ## 반응 변수\n",
    "variables = list(data1.drop('accident_cnt', axis =1).columns)\n",
    "selected_variables = [] ## 선택된 변수들\n",
    "sl_enter = 0.05\n",
    " \n",
    "sv_per_step = [] ## 각 스텝별로 선택된 변수들\n",
    "steps = [] ## 스텝\n",
    "step = 0\n",
    "while len(variables) > 0:\n",
    "    remainder = list(set(variables) - set(selected_variables))\n",
    "    pval = pd.Series(index=remainder) ## 변수의 p-value\n",
    "    ## 기존에 포함된 변수와 새로운 변수 하나씩 돌아가면서 \n",
    "    ## 선형 모형을 적합한다.\n",
    "    for col in remainder: \n",
    "        X = df[selected_variables+[col]]\n",
    "        #X = sm.add_constant(X)\n",
    "        formula = \"{} ~ {}\".format('accident_cnt', ' + '.join(X.columns)) \n",
    "        #model = sm.OLS(y,X).fit()\n",
    "        model = smf.glm(formula , data1, family=sm.families.NegativeBinomial()).fit()\n",
    "        pval[col] = model.pvalues[col]\n",
    " \n",
    "    min_pval = pval.min()\n",
    "    if min_pval < sl_enter: ## 최소 p-value 값이 기준 값보다 작으면 포함\n",
    "        selected_variables.append(pval.idxmin())\n",
    "        step += 1\n",
    "        steps.append(step)\n",
    "        #adj_r_squared = sm.OLS(y,sm.add_constant(df[selected_variables])).fit().rsquared_adj\n",
    "        #adjusted_r_squared.append(adj_r_squared)\n",
    "        sv_per_step.append(selected_variables.copy())\n",
    "    else:\n",
    "        break\n",
    "        \n",
    "forward_cols = selected_variables\n",
    "print(steps[-1])"
   ]
  },
  {
   "cell_type": "code",
   "execution_count": 100,
   "metadata": {},
   "outputs": [
    {
     "data": {
      "text/plain": [
       "['횡단보도',\n",
       " '도로수',\n",
       " '학원_교습소_around',\n",
       " '초등학교_around',\n",
       " '하교',\n",
       " '혼잡빈도강도',\n",
       " '추정교통량_전체',\n",
       " '버스정류장',\n",
       " '일방통행',\n",
       " '초등학교',\n",
       " '도로평균제한속도',\n",
       " '학원_교습소']"
      ]
     },
     "execution_count": 100,
     "metadata": {},
     "output_type": "execute_result"
    }
   ],
   "source": [
    "forward_cols"
   ]
  },
  {
   "cell_type": "markdown",
   "metadata": {},
   "source": [
    "- Backward Elimination"
   ]
  },
  {
   "cell_type": "code",
   "execution_count": 101,
   "metadata": {},
   "outputs": [
    {
     "name": "stdout",
     "output_type": "stream",
     "text": [
      "12\n"
     ]
    }
   ],
   "source": [
    "## 후진 소거법\n",
    "# 후진에서는 모든 변수를 선택했음\n",
    "\n",
    "df=data1\n",
    "y = data1['accident_cnt'] ## 반응 변수\n",
    "variables = list(data1.drop('accident_cnt', axis =1).columns)\n",
    "\n",
    "selected_variables = variables ## 초기에는 모든 변수가 선택된 상태\n",
    "sl_remove = 0.05\n",
    " \n",
    "sv_per_step = [] ## 각 스텝별로 선택된 변수들\n",
    "steps = [] ## 스텝\n",
    "step = 0\n",
    "while len(variables) > 0:\n",
    "    X = df[selected_variables]\n",
    "    formula = \"{} ~ {}\".format('accident_cnt', ' + '.join(X.columns))\n",
    "    p_vals = smf.glm(formula, data1, family=sm.families.NegativeBinomial()).fit().pvalues[1:]\n",
    "    \n",
    "    #p_vals = sm.OLS(y,X).fit().pvalues[1:] ## 절편항의 p-value는 뺀다\n",
    "    max_pval = p_vals.max() ## 최대 p-value\n",
    "    if max_pval >= sl_remove: ## 최대 p-value값이 기준값보다 크거나 같으면 제외\n",
    "        remove_variable = p_vals.idxmax()\n",
    "        selected_variables.remove(remove_variable)\n",
    " \n",
    "        step += 1\n",
    "        steps.append(step)\n",
    "        #adj_r_squared = sm.OLS(y,sm.add_constant(df[selected_variables])).fit().rsquared_adj\n",
    "        #adjusted_r_squared.append(adj_r_squared)\n",
    "        sv_per_step.append(selected_variables.copy())\n",
    "    else:\n",
    "        break\n",
    "\n",
    "backward_cols = selected_variables\n",
    "print(steps[-1])"
   ]
  },
  {
   "cell_type": "code",
   "execution_count": 102,
   "metadata": {},
   "outputs": [
    {
     "data": {
      "text/plain": [
       "['하교',\n",
       " '초등학교',\n",
       " '학원_교습소',\n",
       " '횡단보도',\n",
       " '버스정류장',\n",
       " '추정교통량_전체',\n",
       " '혼잡빈도강도',\n",
       " '도로수',\n",
       " '도로평균제한속도',\n",
       " '일방통행',\n",
       " '초등학교_around',\n",
       " '학원_교습소_around']"
      ]
     },
     "execution_count": 102,
     "metadata": {},
     "output_type": "execute_result"
    }
   ],
   "source": [
    "backward_cols"
   ]
  },
  {
   "cell_type": "code",
   "execution_count": 103,
   "metadata": {},
   "outputs": [
    {
     "name": "stdout",
     "output_type": "stream",
     "text": [
      "12 12 12\n",
      "['추정교통량_전체', '하교', '도로수', '도로평균제한속도', '일방통행', '초등학교', '혼잡빈도강도', '학원_교습소', '학원_교습소_around', '버스정류장', '횡단보도', '초등학교_around']\n"
     ]
    }
   ],
   "source": [
    "both_cols = list(set(forward_cols).intersection(backward_cols))\n",
    "print(len(forward_cols), len(backward_cols), len(both_cols))\n",
    "print(both_cols)"
   ]
  },
  {
   "cell_type": "code",
   "execution_count": 104,
   "metadata": {},
   "outputs": [
    {
     "data": {
      "text/plain": [
       "'accident_cnt ~ 추정교통량_전체+하교+도로수+도로평균제한속도+일방통행+초등학교+혼잡빈도강도+학원_교습소+학원_교습소_around+버스정류장+횡단보도+초등학교_around'"
      ]
     },
     "execution_count": 104,
     "metadata": {},
     "output_type": "execute_result"
    }
   ],
   "source": [
    "'accident_cnt ~ '+'+'.join(both_cols)"
   ]
  },
  {
   "cell_type": "code",
   "execution_count": 105,
   "metadata": {},
   "outputs": [
    {
     "data": {
      "text/html": [
       "<table class=\"simpletable\">\n",
       "<caption>Generalized Linear Model Regression Results</caption>\n",
       "<tr>\n",
       "  <th>Dep. Variable:</th>     <td>accident_cnt</td>   <th>  No. Observations:  </th>  <td>  1678</td> \n",
       "</tr>\n",
       "<tr>\n",
       "  <th>Model:</th>                  <td>GLM</td>       <th>  Df Residuals:      </th>  <td>  1665</td> \n",
       "</tr>\n",
       "<tr>\n",
       "  <th>Model Family:</th>    <td>NegativeBinomial</td> <th>  Df Model:          </th>  <td>    12</td> \n",
       "</tr>\n",
       "<tr>\n",
       "  <th>Link Function:</th>          <td>log</td>       <th>  Scale:             </th> <td>  1.0000</td>\n",
       "</tr>\n",
       "<tr>\n",
       "  <th>Method:</th>                <td>IRLS</td>       <th>  Log-Likelihood:    </th> <td> -873.04</td>\n",
       "</tr>\n",
       "<tr>\n",
       "  <th>Date:</th>            <td>Thu, 28 Jan 2021</td> <th>  Deviance:          </th> <td>  817.48</td>\n",
       "</tr>\n",
       "<tr>\n",
       "  <th>Time:</th>                <td>03:21:16</td>     <th>  Pearson chi2:      </th> <td>1.52e+03</td>\n",
       "</tr>\n",
       "<tr>\n",
       "  <th>No. Iterations:</th>          <td>8</td>        <th>                     </th>     <td> </td>   \n",
       "</tr>\n",
       "<tr>\n",
       "  <th>Covariance Type:</th>     <td>nonrobust</td>    <th>                     </th>     <td> </td>   \n",
       "</tr>\n",
       "</table>\n",
       "<table class=\"simpletable\">\n",
       "<tr>\n",
       "        <td></td>           <th>coef</th>     <th>std err</th>      <th>z</th>      <th>P>|z|</th>  <th>[0.025</th>    <th>0.975]</th>  \n",
       "</tr>\n",
       "<tr>\n",
       "  <th>Intercept</th>     <td>   -3.5607</td> <td>    0.239</td> <td>  -14.920</td> <td> 0.000</td> <td>   -4.028</td> <td>   -3.093</td>\n",
       "</tr>\n",
       "<tr>\n",
       "  <th>추정교통량_전체</th>      <td>    2.5475</td> <td>    0.677</td> <td>    3.765</td> <td> 0.000</td> <td>    1.221</td> <td>    3.873</td>\n",
       "</tr>\n",
       "<tr>\n",
       "  <th>하교</th>            <td>    0.9708</td> <td>    0.384</td> <td>    2.529</td> <td> 0.011</td> <td>    0.218</td> <td>    1.723</td>\n",
       "</tr>\n",
       "<tr>\n",
       "  <th>도로수</th>           <td>    2.0730</td> <td>    0.517</td> <td>    4.011</td> <td> 0.000</td> <td>    1.060</td> <td>    3.086</td>\n",
       "</tr>\n",
       "<tr>\n",
       "  <th>도로평균제한속도</th>      <td>    0.8313</td> <td>    0.346</td> <td>    2.402</td> <td> 0.016</td> <td>    0.153</td> <td>    1.510</td>\n",
       "</tr>\n",
       "<tr>\n",
       "  <th>일방통행</th>          <td>   -1.1835</td> <td>    0.318</td> <td>   -3.727</td> <td> 0.000</td> <td>   -1.806</td> <td>   -0.561</td>\n",
       "</tr>\n",
       "<tr>\n",
       "  <th>초등학교</th>          <td>    2.6918</td> <td>    0.965</td> <td>    2.790</td> <td> 0.005</td> <td>    0.801</td> <td>    4.582</td>\n",
       "</tr>\n",
       "<tr>\n",
       "  <th>혼잡빈도강도</th>        <td>    0.9229</td> <td>    0.245</td> <td>    3.765</td> <td> 0.000</td> <td>    0.442</td> <td>    1.403</td>\n",
       "</tr>\n",
       "<tr>\n",
       "  <th>학원_교습소</th>        <td>    1.0090</td> <td>    0.500</td> <td>    2.017</td> <td> 0.044</td> <td>    0.028</td> <td>    1.990</td>\n",
       "</tr>\n",
       "<tr>\n",
       "  <th>학원_교습소_around</th> <td>    1.5357</td> <td>    0.378</td> <td>    4.058</td> <td> 0.000</td> <td>    0.794</td> <td>    2.277</td>\n",
       "</tr>\n",
       "<tr>\n",
       "  <th>버스정류장</th>         <td>    1.2223</td> <td>    0.338</td> <td>    3.613</td> <td> 0.000</td> <td>    0.559</td> <td>    1.886</td>\n",
       "</tr>\n",
       "<tr>\n",
       "  <th>횡단보도</th>          <td>    2.1346</td> <td>    0.341</td> <td>    6.254</td> <td> 0.000</td> <td>    1.466</td> <td>    2.804</td>\n",
       "</tr>\n",
       "<tr>\n",
       "  <th>초등학교_around</th>   <td>    1.8297</td> <td>    0.335</td> <td>    5.460</td> <td> 0.000</td> <td>    1.173</td> <td>    2.486</td>\n",
       "</tr>\n",
       "</table>"
      ],
      "text/plain": [
       "<class 'statsmodels.iolib.summary.Summary'>\n",
       "\"\"\"\n",
       "                 Generalized Linear Model Regression Results                  \n",
       "==============================================================================\n",
       "Dep. Variable:           accident_cnt   No. Observations:                 1678\n",
       "Model:                            GLM   Df Residuals:                     1665\n",
       "Model Family:        NegativeBinomial   Df Model:                           12\n",
       "Link Function:                    log   Scale:                          1.0000\n",
       "Method:                          IRLS   Log-Likelihood:                -873.04\n",
       "Date:                Thu, 28 Jan 2021   Deviance:                       817.48\n",
       "Time:                        03:21:16   Pearson chi2:                 1.52e+03\n",
       "No. Iterations:                     8                                         \n",
       "Covariance Type:            nonrobust                                         \n",
       "=================================================================================\n",
       "                    coef    std err          z      P>|z|      [0.025      0.975]\n",
       "---------------------------------------------------------------------------------\n",
       "Intercept        -3.5607      0.239    -14.920      0.000      -4.028      -3.093\n",
       "추정교통량_전체          2.5475      0.677      3.765      0.000       1.221       3.873\n",
       "하교                0.9708      0.384      2.529      0.011       0.218       1.723\n",
       "도로수               2.0730      0.517      4.011      0.000       1.060       3.086\n",
       "도로평균제한속도          0.8313      0.346      2.402      0.016       0.153       1.510\n",
       "일방통행             -1.1835      0.318     -3.727      0.000      -1.806      -0.561\n",
       "초등학교              2.6918      0.965      2.790      0.005       0.801       4.582\n",
       "혼잡빈도강도            0.9229      0.245      3.765      0.000       0.442       1.403\n",
       "학원_교습소            1.0090      0.500      2.017      0.044       0.028       1.990\n",
       "학원_교습소_around     1.5357      0.378      4.058      0.000       0.794       2.277\n",
       "버스정류장             1.2223      0.338      3.613      0.000       0.559       1.886\n",
       "횡단보도              2.1346      0.341      6.254      0.000       1.466       2.804\n",
       "초등학교_around       1.8297      0.335      5.460      0.000       1.173       2.486\n",
       "=================================================================================\n",
       "\"\"\""
      ]
     },
     "execution_count": 105,
     "metadata": {},
     "output_type": "execute_result"
    }
   ],
   "source": [
    "model = smf.glm(formula = 'accident_cnt ~ '+'+'.join(both_cols), data = data1, family=sm.families.NegativeBinomial()).fit(random_state = 1)\n",
    "\n",
    "model.summary()"
   ]
  },
  {
   "cell_type": "code",
   "execution_count": 106,
   "metadata": {},
   "outputs": [],
   "source": [
    "# 격자별 교통사고 위험도 지수 계산\n",
    "\n",
    "final_df['w_hazard'] = 0\n",
    "\n",
    "for i in range(1, len(model.params)):\n",
    "    final_df['w_hazard'] += (model.params[i]*final_df[model.params.index[i]])\n",
    "    \n",
    "final_df['w_hazard'] += model.params[0]\n",
    "final_df['w_hazard'] = np.exp(final_df['w_hazard'])"
   ]
  },
  {
   "cell_type": "code",
   "execution_count": 107,
   "metadata": {},
   "outputs": [
    {
     "data": {
      "text/plain": [
       "0"
      ]
     },
     "execution_count": 107,
     "metadata": {},
     "output_type": "execute_result"
    }
   ],
   "source": [
    "final_df.isnull().sum().sum()"
   ]
  },
  {
   "cell_type": "code",
   "execution_count": 108,
   "metadata": {},
   "outputs": [
    {
     "data": {
      "text/plain": [
       "Index(['gid', 'accident_cnt', 'geometry', 'coordinates', 'coord_cent',\n",
       "       'geo_cent', 'grid_id', 'min_lon', 'max_lon', 'min_lat', 'max_lat',\n",
       "       '사고정규화', '주정차단속', '총인구', '유소년인구', '생산가능인구', '등교', '하교', '이외유동',\n",
       "       '어린이보호구역', '초등학교', '인접초등학교통학구', '어린이집_유치원', '학원_교습소', '무인교통단속',\n",
       "       '도로안전표지판', '횡단보도', '과속방지턱', '신호등', 'CCTV', '버스정류장', '추정교통량_전체',\n",
       "       '추정교통량_승용차', '추정교통량_버스', '추정교통량_화물차', '혼잡빈도강도', '도로수', '도로평균제한속도',\n",
       "       '도로길이', '도로폭', '중앙분리대', '일방통행', '상행차로', '하행차로', '주정차단속_around',\n",
       "       '총인구_around', '유소년인구_around', '생산가능인구_around', '등교_around', '하교_around',\n",
       "       '이외유동_around', '어린이보호구역_around', '초등학교_around', '인접초등학교통학구_around',\n",
       "       '어린이집_유치원_around', '학원_교습소_around', '무인교통단속_around', '도로안전표지판_around',\n",
       "       '횡단보도_around', '과속방지턱_around', '신호등_around', 'CCTV_around',\n",
       "       '혼잡빈도강도_around', '도로수_around', '도로길이_around', '도로폭_around',\n",
       "       '추정교통량_전체_around', '추정교통량_승용차_around', '추정교통량_버스_around',\n",
       "       '추정교통량_화물차_around', '도로평균제한속도_around', '버스정류장_around', '중앙분리대_around',\n",
       "       '상행차로_around', '하행차로_around', '일방통행_around', 'w_hazard'],\n",
       "      dtype='object')"
      ]
     },
     "execution_count": 108,
     "metadata": {},
     "output_type": "execute_result"
    }
   ],
   "source": [
    "final_df.columns"
   ]
  },
  {
   "cell_type": "code",
   "execution_count": 112,
   "metadata": {},
   "outputs": [],
   "source": [
    "#final_df.to_csv('final_df_hazard.csv', index = False)\n",
    "#data1.to_csv('data1.csv', index = False)"
   ]
  },
  {
   "cell_type": "markdown",
   "metadata": {},
   "source": [
    "# MCLP (maximal covering location problem)"
   ]
  },
  {
   "cell_type": "code",
   "execution_count": 113,
   "metadata": {},
   "outputs": [],
   "source": [
    "def generate_candidate_sites(df_result_fin,Weight,M=100):\n",
    "    sites = []\n",
    "    hazard = [] #\n",
    "    idx = df_result_fin.sort_values(by = Weight, ascending = False).iloc[1:M].index\n",
    "    for i in range(len(idx)):\n",
    "        random_point = Point(np.array(df_result_fin.loc[idx]['coord_cent'])[i][0],\n",
    "                             np.array(df_result_fin.loc[idx]['coord_cent'])[i][1])\n",
    "        random_hazard = np.array(df_result_fin.loc[idx]['w_hazard'])[i] #\n",
    "        sites.append(random_point)\n",
    "        hazard.append(random_hazard) #\n",
    "    return np.array([(p.x,p.y) for p in sites]), np.array(hazard) #\n",
    "\n",
    "from scipy.spatial import distance_matrix\n",
    "\n",
    "def mclp(points,K,radius,M,df_result_fin,w,Weight):\n",
    "\n",
    "    \"\"\"\n",
    "    Solve maximum covering location problem\n",
    "    Input:\n",
    "        points: input points, Numpy array in shape of [N,2]\n",
    "        K: the number of sites to select\n",
    "        radius: the radius of circle\n",
    "        M: the number of candidate sites, which will randomly generated inside\n",
    "        the ConvexHull wrapped by the polygon\n",
    "    Return:\n",
    "        opt_sites: locations K optimal sites, Numpy array in shape of [K,2]\n",
    "        f: the optimal value of the objective function\n",
    "    \"\"\"\n",
    "    print('----- Configurations -----')\n",
    "    print('  Number of points %g' % points.shape[0])\n",
    "    print('  K %g' % K)\n",
    "    print('  Radius %g' % radius)\n",
    "    print('  M %g' % M)\n",
    "    import time\n",
    "    start = time.time()\n",
    "    sites = generate_candidate_sites(df_result_fin,Weight,M)[0]\n",
    "    hazard = generate_candidate_sites(df_result_fin,Weight,M)[1] #\n",
    "    J = sites.shape[0]\n",
    "    I = points.shape[0]\n",
    "    D = distance_matrix(points,sites)\n",
    "    mask1 = D<=radius\n",
    "    D[mask1]=1\n",
    "    D[~mask1]=0\n",
    "\n",
    "    from mip import Model, xsum, maximize, BINARY\n",
    "\n",
    "    # Build model\n",
    "    m = Model(\"mclp\")\n",
    "    # Add variables\n",
    "\n",
    "    x = [m.add_var(name = \"x%d\" % j, var_type = BINARY) for j in range(J)]\n",
    "    y = [m.add_var(name = \"y%d\" % i, var_type = BINARY) for i in range(I)]\n",
    "\n",
    "\n",
    "    m.objective = maximize(xsum(w[i]*y[i] for i in range (I)))\n",
    "\n",
    "    m += xsum(x[j] for j in range(J)) == K\n",
    "\n",
    "    for i in range(I):\n",
    "        m += xsum(x[j] for j in np.where(D[i]==1)[0]) >= y[i]\n",
    "\n",
    "    m.optimize()\n",
    "    \n",
    "    end = time.time()\n",
    "    print('----- Output -----')\n",
    "    print('  Running time : %s seconds' % float(end-start))\n",
    "    print('  Optimal coverage points: %g' % m.objective_value)\n",
    "\n",
    "    solution = []\n",
    "    for i in range(J):\n",
    "        if x[i].x ==1:\n",
    "            solution.append(int(x[i].name[1:]))\n",
    "    opt_sites = sites[solution]\n",
    "    opt_sites_hazard = hazard[solution] #\n",
    "    \n",
    "    return opt_sites, m.objective_value, opt_sites_hazard #"
   ]
  },
  {
   "cell_type": "code",
   "execution_count": 114,
   "metadata": {},
   "outputs": [
    {
     "name": "stdout",
     "output_type": "stream",
     "text": [
      "4422\n"
     ]
    }
   ],
   "source": [
    "df_fin = final_df[final_df['어린이보호구역'] == 0].reset_index(drop = True)\n",
    "print(len(df_fin))"
   ]
  },
  {
   "cell_type": "code",
   "execution_count": 115,
   "metadata": {},
   "outputs": [],
   "source": [
    "import numpy as np"
   ]
  },
  {
   "cell_type": "code",
   "execution_count": 116,
   "metadata": {},
   "outputs": [
    {
     "name": "stdout",
     "output_type": "stream",
     "text": [
      "----- Configurations -----\n",
      "  Number of points 4422\n",
      "  K 50\n",
      "  Radius 0.000563444\n",
      "  M 3000\n",
      "Using Python-MIP package version 1.5.3\n",
      "----- Output -----\n",
      "  Running time : 43.98970437049866 seconds\n",
      "  Optimal coverage points: 160.946\n"
     ]
    },
    {
     "data": {
      "text/html": [
       "<div>\n",
       "<style scoped>\n",
       "    .dataframe tbody tr th:only-of-type {\n",
       "        vertical-align: middle;\n",
       "    }\n",
       "\n",
       "    .dataframe tbody tr th {\n",
       "        vertical-align: top;\n",
       "    }\n",
       "\n",
       "    .dataframe thead th {\n",
       "        text-align: right;\n",
       "    }\n",
       "</style>\n",
       "<table border=\"1\" class=\"dataframe\">\n",
       "  <thead>\n",
       "    <tr style=\"text-align: right;\">\n",
       "      <th></th>\n",
       "      <th>lon</th>\n",
       "      <th>lat</th>\n",
       "      <th>w_hazard</th>\n",
       "    </tr>\n",
       "  </thead>\n",
       "  <tbody>\n",
       "    <tr>\n",
       "      <th>0</th>\n",
       "      <td>127.061382</td>\n",
       "      <td>37.149661</td>\n",
       "      <td>13.024422</td>\n",
       "    </tr>\n",
       "    <tr>\n",
       "      <th>1</th>\n",
       "      <td>127.069341</td>\n",
       "      <td>37.136169</td>\n",
       "      <td>10.151051</td>\n",
       "    </tr>\n",
       "    <tr>\n",
       "      <th>2</th>\n",
       "      <td>127.072607</td>\n",
       "      <td>37.156012</td>\n",
       "      <td>7.895149</td>\n",
       "    </tr>\n",
       "    <tr>\n",
       "      <th>3</th>\n",
       "      <td>127.073774</td>\n",
       "      <td>37.148805</td>\n",
       "      <td>7.576805</td>\n",
       "    </tr>\n",
       "    <tr>\n",
       "      <th>4</th>\n",
       "      <td>127.071628</td>\n",
       "      <td>37.129868</td>\n",
       "      <td>4.961979</td>\n",
       "    </tr>\n",
       "    <tr>\n",
       "      <th>5</th>\n",
       "      <td>127.070334</td>\n",
       "      <td>37.159610</td>\n",
       "      <td>4.842711</td>\n",
       "    </tr>\n",
       "    <tr>\n",
       "      <th>6</th>\n",
       "      <td>127.078233</td>\n",
       "      <td>37.156934</td>\n",
       "      <td>4.687755</td>\n",
       "    </tr>\n",
       "    <tr>\n",
       "      <th>7</th>\n",
       "      <td>127.074895</td>\n",
       "      <td>37.149710</td>\n",
       "      <td>4.409737</td>\n",
       "    </tr>\n",
       "    <tr>\n",
       "      <th>8</th>\n",
       "      <td>127.074915</td>\n",
       "      <td>37.146105</td>\n",
       "      <td>4.327476</td>\n",
       "    </tr>\n",
       "    <tr>\n",
       "      <th>9</th>\n",
       "      <td>127.076026</td>\n",
       "      <td>37.148813</td>\n",
       "      <td>3.986240</td>\n",
       "    </tr>\n",
       "    <tr>\n",
       "      <th>10</th>\n",
       "      <td>127.078348</td>\n",
       "      <td>37.136202</td>\n",
       "      <td>3.878734</td>\n",
       "    </tr>\n",
       "    <tr>\n",
       "      <th>11</th>\n",
       "      <td>127.073789</td>\n",
       "      <td>37.146101</td>\n",
       "      <td>3.703884</td>\n",
       "    </tr>\n",
       "    <tr>\n",
       "      <th>12</th>\n",
       "      <td>127.082861</td>\n",
       "      <td>37.134415</td>\n",
       "      <td>3.510845</td>\n",
       "    </tr>\n",
       "    <tr>\n",
       "      <th>13</th>\n",
       "      <td>127.078238</td>\n",
       "      <td>37.156032</td>\n",
       "      <td>3.490893</td>\n",
       "    </tr>\n",
       "    <tr>\n",
       "      <th>14</th>\n",
       "      <td>127.074900</td>\n",
       "      <td>37.148809</td>\n",
       "      <td>3.423005</td>\n",
       "    </tr>\n",
       "    <tr>\n",
       "      <th>15</th>\n",
       "      <td>127.047654</td>\n",
       "      <td>37.185666</td>\n",
       "      <td>3.397441</td>\n",
       "    </tr>\n",
       "    <tr>\n",
       "      <th>16</th>\n",
       "      <td>127.076021</td>\n",
       "      <td>37.149714</td>\n",
       "      <td>3.281767</td>\n",
       "    </tr>\n",
       "    <tr>\n",
       "      <th>17</th>\n",
       "      <td>127.078278</td>\n",
       "      <td>37.148821</td>\n",
       "      <td>3.215508</td>\n",
       "    </tr>\n",
       "    <tr>\n",
       "      <th>18</th>\n",
       "      <td>127.059009</td>\n",
       "      <td>37.170385</td>\n",
       "      <td>3.090950</td>\n",
       "    </tr>\n",
       "    <tr>\n",
       "      <th>19</th>\n",
       "      <td>127.085123</td>\n",
       "      <td>37.132620</td>\n",
       "      <td>3.068878</td>\n",
       "    </tr>\n",
       "    <tr>\n",
       "      <th>20</th>\n",
       "      <td>127.063561</td>\n",
       "      <td>37.162289</td>\n",
       "      <td>2.886692</td>\n",
       "    </tr>\n",
       "    <tr>\n",
       "      <th>21</th>\n",
       "      <td>127.073769</td>\n",
       "      <td>37.149706</td>\n",
       "      <td>2.869737</td>\n",
       "    </tr>\n",
       "    <tr>\n",
       "      <th>22</th>\n",
       "      <td>127.076041</td>\n",
       "      <td>37.146109</td>\n",
       "      <td>2.710286</td>\n",
       "    </tr>\n",
       "    <tr>\n",
       "      <th>23</th>\n",
       "      <td>127.043093</td>\n",
       "      <td>37.194663</td>\n",
       "      <td>2.668260</td>\n",
       "    </tr>\n",
       "    <tr>\n",
       "      <th>24</th>\n",
       "      <td>127.072744</td>\n",
       "      <td>37.131674</td>\n",
       "      <td>2.614926</td>\n",
       "    </tr>\n",
       "    <tr>\n",
       "      <th>25</th>\n",
       "      <td>127.028440</td>\n",
       "      <td>37.195507</td>\n",
       "      <td>2.567713</td>\n",
       "    </tr>\n",
       "    <tr>\n",
       "      <th>26</th>\n",
       "      <td>127.051098</td>\n",
       "      <td>37.174862</td>\n",
       "      <td>2.453533</td>\n",
       "    </tr>\n",
       "    <tr>\n",
       "      <th>27</th>\n",
       "      <td>127.032931</td>\n",
       "      <td>37.198229</td>\n",
       "      <td>2.338612</td>\n",
       "    </tr>\n",
       "    <tr>\n",
       "      <th>28</th>\n",
       "      <td>127.040041</td>\n",
       "      <td>37.140566</td>\n",
       "      <td>2.281091</td>\n",
       "    </tr>\n",
       "    <tr>\n",
       "      <th>29</th>\n",
       "      <td>127.072719</td>\n",
       "      <td>37.136181</td>\n",
       "      <td>2.270667</td>\n",
       "    </tr>\n",
       "    <tr>\n",
       "      <th>30</th>\n",
       "      <td>127.073829</td>\n",
       "      <td>37.138890</td>\n",
       "      <td>2.150364</td>\n",
       "    </tr>\n",
       "    <tr>\n",
       "      <th>31</th>\n",
       "      <td>127.045455</td>\n",
       "      <td>37.176644</td>\n",
       "      <td>2.137928</td>\n",
       "    </tr>\n",
       "    <tr>\n",
       "      <th>32</th>\n",
       "      <td>127.046501</td>\n",
       "      <td>37.190169</td>\n",
       "      <td>2.105412</td>\n",
       "    </tr>\n",
       "    <tr>\n",
       "      <th>33</th>\n",
       "      <td>127.073809</td>\n",
       "      <td>37.142495</td>\n",
       "      <td>2.048525</td>\n",
       "    </tr>\n",
       "    <tr>\n",
       "      <th>34</th>\n",
       "      <td>127.078343</td>\n",
       "      <td>37.137103</td>\n",
       "      <td>2.021276</td>\n",
       "    </tr>\n",
       "    <tr>\n",
       "      <th>35</th>\n",
       "      <td>127.073834</td>\n",
       "      <td>37.137988</td>\n",
       "      <td>1.991742</td>\n",
       "    </tr>\n",
       "    <tr>\n",
       "      <th>36</th>\n",
       "      <td>127.044328</td>\n",
       "      <td>37.176639</td>\n",
       "      <td>1.932504</td>\n",
       "    </tr>\n",
       "    <tr>\n",
       "      <th>37</th>\n",
       "      <td>127.046576</td>\n",
       "      <td>37.177549</td>\n",
       "      <td>1.878202</td>\n",
       "    </tr>\n",
       "    <tr>\n",
       "      <th>38</th>\n",
       "      <td>127.082728</td>\n",
       "      <td>37.158752</td>\n",
       "      <td>1.859151</td>\n",
       "    </tr>\n",
       "    <tr>\n",
       "      <th>39</th>\n",
       "      <td>127.044339</td>\n",
       "      <td>37.174836</td>\n",
       "      <td>1.753629</td>\n",
       "    </tr>\n",
       "    <tr>\n",
       "      <th>40</th>\n",
       "      <td>127.056709</td>\n",
       "      <td>37.178489</td>\n",
       "      <td>1.587852</td>\n",
       "    </tr>\n",
       "    <tr>\n",
       "      <th>41</th>\n",
       "      <td>127.078308</td>\n",
       "      <td>37.143413</td>\n",
       "      <td>1.581142</td>\n",
       "    </tr>\n",
       "    <tr>\n",
       "      <th>42</th>\n",
       "      <td>127.036349</td>\n",
       "      <td>37.191932</td>\n",
       "      <td>1.575257</td>\n",
       "    </tr>\n",
       "    <tr>\n",
       "      <th>43</th>\n",
       "      <td>127.064688</td>\n",
       "      <td>37.162293</td>\n",
       "      <td>1.570126</td>\n",
       "    </tr>\n",
       "    <tr>\n",
       "      <th>44</th>\n",
       "      <td>127.038800</td>\n",
       "      <td>37.159491</td>\n",
       "      <td>1.559862</td>\n",
       "    </tr>\n",
       "    <tr>\n",
       "      <th>45</th>\n",
       "      <td>127.071562</td>\n",
       "      <td>37.141586</td>\n",
       "      <td>1.547329</td>\n",
       "    </tr>\n",
       "    <tr>\n",
       "      <th>46</th>\n",
       "      <td>127.076031</td>\n",
       "      <td>37.147912</td>\n",
       "      <td>1.529505</td>\n",
       "    </tr>\n",
       "    <tr>\n",
       "      <th>47</th>\n",
       "      <td>127.055577</td>\n",
       "      <td>37.179386</td>\n",
       "      <td>1.526391</td>\n",
       "    </tr>\n",
       "    <tr>\n",
       "      <th>48</th>\n",
       "      <td>127.065762</td>\n",
       "      <td>37.171311</td>\n",
       "      <td>1.510075</td>\n",
       "    </tr>\n",
       "    <tr>\n",
       "      <th>49</th>\n",
       "      <td>127.087380</td>\n",
       "      <td>37.131726</td>\n",
       "      <td>1.493208</td>\n",
       "    </tr>\n",
       "  </tbody>\n",
       "</table>\n",
       "</div>"
      ],
      "text/plain": [
       "           lon        lat   w_hazard\n",
       "0   127.061382  37.149661  13.024422\n",
       "1   127.069341  37.136169  10.151051\n",
       "2   127.072607  37.156012   7.895149\n",
       "3   127.073774  37.148805   7.576805\n",
       "4   127.071628  37.129868   4.961979\n",
       "5   127.070334  37.159610   4.842711\n",
       "6   127.078233  37.156934   4.687755\n",
       "7   127.074895  37.149710   4.409737\n",
       "8   127.074915  37.146105   4.327476\n",
       "9   127.076026  37.148813   3.986240\n",
       "10  127.078348  37.136202   3.878734\n",
       "11  127.073789  37.146101   3.703884\n",
       "12  127.082861  37.134415   3.510845\n",
       "13  127.078238  37.156032   3.490893\n",
       "14  127.074900  37.148809   3.423005\n",
       "15  127.047654  37.185666   3.397441\n",
       "16  127.076021  37.149714   3.281767\n",
       "17  127.078278  37.148821   3.215508\n",
       "18  127.059009  37.170385   3.090950\n",
       "19  127.085123  37.132620   3.068878\n",
       "20  127.063561  37.162289   2.886692\n",
       "21  127.073769  37.149706   2.869737\n",
       "22  127.076041  37.146109   2.710286\n",
       "23  127.043093  37.194663   2.668260\n",
       "24  127.072744  37.131674   2.614926\n",
       "25  127.028440  37.195507   2.567713\n",
       "26  127.051098  37.174862   2.453533\n",
       "27  127.032931  37.198229   2.338612\n",
       "28  127.040041  37.140566   2.281091\n",
       "29  127.072719  37.136181   2.270667\n",
       "30  127.073829  37.138890   2.150364\n",
       "31  127.045455  37.176644   2.137928\n",
       "32  127.046501  37.190169   2.105412\n",
       "33  127.073809  37.142495   2.048525\n",
       "34  127.078343  37.137103   2.021276\n",
       "35  127.073834  37.137988   1.991742\n",
       "36  127.044328  37.176639   1.932504\n",
       "37  127.046576  37.177549   1.878202\n",
       "38  127.082728  37.158752   1.859151\n",
       "39  127.044339  37.174836   1.753629\n",
       "40  127.056709  37.178489   1.587852\n",
       "41  127.078308  37.143413   1.581142\n",
       "42  127.036349  37.191932   1.575257\n",
       "43  127.064688  37.162293   1.570126\n",
       "44  127.038800  37.159491   1.559862\n",
       "45  127.071562  37.141586   1.547329\n",
       "46  127.076031  37.147912   1.529505\n",
       "47  127.055577  37.179386   1.526391\n",
       "48  127.065762  37.171311   1.510075\n",
       "49  127.087380  37.131726   1.493208"
      ]
     },
     "execution_count": 116,
     "metadata": {},
     "output_type": "execute_result"
    }
   ],
   "source": [
    "points = []\n",
    "for i in df_fin['coord_cent'] :\n",
    "    points.append(i)\n",
    "\n",
    "w= []\n",
    "for i in df_fin['w_hazard'] :\n",
    "    w.append(i)\n",
    "\n",
    "radius = radius = (1/88.74/1000)*50\n",
    "K = 50\n",
    "M = 3000\n",
    "\n",
    "opt_sites_org,f, opt_sites_hazard = mclp(np.array(points), K, radius, M, df_fin, w, 'w_hazard')\n",
    "\n",
    "df_opt_sites= pd.DataFrame(opt_sites_org)\n",
    "df_opt_sites.columns = ['lon', 'lat']\n",
    "#df_opt_sites['w_hazard'] = opt_sites_hazard\n",
    "df_opt_sites"
   ]
  },
  {
   "cell_type": "code",
   "execution_count": 117,
   "metadata": {},
   "outputs": [],
   "source": [
    "from sklearn.cluster import KMeans\n",
    "from sklearn.preprocessing import StandardScaler"
   ]
  },
  {
   "cell_type": "code",
   "execution_count": 118,
   "metadata": {},
   "outputs": [],
   "source": [
    "scaler = StandardScaler()\n",
    "data_points = scaler.fit_transform(df_opt_sites[['lon', 'lat']])"
   ]
  },
  {
   "cell_type": "code",
   "execution_count": 119,
   "metadata": {},
   "outputs": [],
   "source": [
    "kmeans = KMeans(n_clusters = 20, random_state = 1).fit(data_points)\n",
    "df_opt_sites['cluster'] = kmeans.labels_"
   ]
  },
  {
   "cell_type": "code",
   "execution_count": 120,
   "metadata": {},
   "outputs": [
    {
     "data": {
      "text/plain": [
       "array([ 2.27066712,  2.13792835,  7.57680536,  3.09094986,  2.56771315,\n",
       "        2.28109131,  3.51084452,  2.88669172,  3.39744061,  1.55986247,\n",
       "        4.6877551 ,  1.58785213, 10.15105093, 13.02442188,  7.89514907,\n",
       "        1.51007543,  1.57525717,  2.45353334,  2.66826004,  3.87873436])"
      ]
     },
     "execution_count": 120,
     "metadata": {},
     "output_type": "execute_result"
    }
   ],
   "source": [
    "df_opt_sites.groupby('cluster')['w_hazard'].max().values"
   ]
  },
  {
   "cell_type": "code",
   "execution_count": 121,
   "metadata": {},
   "outputs": [],
   "source": [
    "where = []\n",
    "for i in range(len(df_opt_sites)):\n",
    "    if df_opt_sites.loc[i, 'w_hazard'] in df_opt_sites.groupby('cluster')['w_hazard'].max().values:\n",
    "        where.append(i)"
   ]
  },
  {
   "cell_type": "code",
   "execution_count": 122,
   "metadata": {},
   "outputs": [
    {
     "data": {
      "text/html": [
       "<div>\n",
       "<style scoped>\n",
       "    .dataframe tbody tr th:only-of-type {\n",
       "        vertical-align: middle;\n",
       "    }\n",
       "\n",
       "    .dataframe tbody tr th {\n",
       "        vertical-align: top;\n",
       "    }\n",
       "\n",
       "    .dataframe thead th {\n",
       "        text-align: right;\n",
       "    }\n",
       "</style>\n",
       "<table border=\"1\" class=\"dataframe\">\n",
       "  <thead>\n",
       "    <tr style=\"text-align: right;\">\n",
       "      <th></th>\n",
       "      <th>lon</th>\n",
       "      <th>lat</th>\n",
       "      <th>w_hazard</th>\n",
       "      <th>cluster</th>\n",
       "    </tr>\n",
       "  </thead>\n",
       "  <tbody>\n",
       "    <tr>\n",
       "      <th>0</th>\n",
       "      <td>127.061382</td>\n",
       "      <td>37.149661</td>\n",
       "      <td>13.024422</td>\n",
       "      <td>13</td>\n",
       "    </tr>\n",
       "    <tr>\n",
       "      <th>1</th>\n",
       "      <td>127.069341</td>\n",
       "      <td>37.136169</td>\n",
       "      <td>10.151051</td>\n",
       "      <td>12</td>\n",
       "    </tr>\n",
       "    <tr>\n",
       "      <th>2</th>\n",
       "      <td>127.072607</td>\n",
       "      <td>37.156012</td>\n",
       "      <td>7.895149</td>\n",
       "      <td>14</td>\n",
       "    </tr>\n",
       "    <tr>\n",
       "      <th>3</th>\n",
       "      <td>127.073774</td>\n",
       "      <td>37.148805</td>\n",
       "      <td>7.576805</td>\n",
       "      <td>2</td>\n",
       "    </tr>\n",
       "    <tr>\n",
       "      <th>4</th>\n",
       "      <td>127.078233</td>\n",
       "      <td>37.156934</td>\n",
       "      <td>4.687755</td>\n",
       "      <td>10</td>\n",
       "    </tr>\n",
       "    <tr>\n",
       "      <th>5</th>\n",
       "      <td>127.078348</td>\n",
       "      <td>37.136202</td>\n",
       "      <td>3.878734</td>\n",
       "      <td>19</td>\n",
       "    </tr>\n",
       "    <tr>\n",
       "      <th>6</th>\n",
       "      <td>127.082861</td>\n",
       "      <td>37.134415</td>\n",
       "      <td>3.510845</td>\n",
       "      <td>6</td>\n",
       "    </tr>\n",
       "    <tr>\n",
       "      <th>7</th>\n",
       "      <td>127.047654</td>\n",
       "      <td>37.185666</td>\n",
       "      <td>3.397441</td>\n",
       "      <td>8</td>\n",
       "    </tr>\n",
       "    <tr>\n",
       "      <th>8</th>\n",
       "      <td>127.059009</td>\n",
       "      <td>37.170385</td>\n",
       "      <td>3.090950</td>\n",
       "      <td>3</td>\n",
       "    </tr>\n",
       "    <tr>\n",
       "      <th>9</th>\n",
       "      <td>127.063561</td>\n",
       "      <td>37.162289</td>\n",
       "      <td>2.886692</td>\n",
       "      <td>7</td>\n",
       "    </tr>\n",
       "    <tr>\n",
       "      <th>10</th>\n",
       "      <td>127.043093</td>\n",
       "      <td>37.194663</td>\n",
       "      <td>2.668260</td>\n",
       "      <td>18</td>\n",
       "    </tr>\n",
       "    <tr>\n",
       "      <th>11</th>\n",
       "      <td>127.028440</td>\n",
       "      <td>37.195507</td>\n",
       "      <td>2.567713</td>\n",
       "      <td>4</td>\n",
       "    </tr>\n",
       "    <tr>\n",
       "      <th>12</th>\n",
       "      <td>127.051098</td>\n",
       "      <td>37.174862</td>\n",
       "      <td>2.453533</td>\n",
       "      <td>17</td>\n",
       "    </tr>\n",
       "    <tr>\n",
       "      <th>13</th>\n",
       "      <td>127.040041</td>\n",
       "      <td>37.140566</td>\n",
       "      <td>2.281091</td>\n",
       "      <td>5</td>\n",
       "    </tr>\n",
       "    <tr>\n",
       "      <th>14</th>\n",
       "      <td>127.072719</td>\n",
       "      <td>37.136181</td>\n",
       "      <td>2.270667</td>\n",
       "      <td>0</td>\n",
       "    </tr>\n",
       "    <tr>\n",
       "      <th>15</th>\n",
       "      <td>127.045455</td>\n",
       "      <td>37.176644</td>\n",
       "      <td>2.137928</td>\n",
       "      <td>1</td>\n",
       "    </tr>\n",
       "    <tr>\n",
       "      <th>16</th>\n",
       "      <td>127.056709</td>\n",
       "      <td>37.178489</td>\n",
       "      <td>1.587852</td>\n",
       "      <td>11</td>\n",
       "    </tr>\n",
       "    <tr>\n",
       "      <th>17</th>\n",
       "      <td>127.036349</td>\n",
       "      <td>37.191932</td>\n",
       "      <td>1.575257</td>\n",
       "      <td>16</td>\n",
       "    </tr>\n",
       "    <tr>\n",
       "      <th>18</th>\n",
       "      <td>127.038800</td>\n",
       "      <td>37.159491</td>\n",
       "      <td>1.559862</td>\n",
       "      <td>9</td>\n",
       "    </tr>\n",
       "    <tr>\n",
       "      <th>19</th>\n",
       "      <td>127.065762</td>\n",
       "      <td>37.171311</td>\n",
       "      <td>1.510075</td>\n",
       "      <td>15</td>\n",
       "    </tr>\n",
       "  </tbody>\n",
       "</table>\n",
       "</div>"
      ],
      "text/plain": [
       "           lon        lat   w_hazard  cluster\n",
       "0   127.061382  37.149661  13.024422       13\n",
       "1   127.069341  37.136169  10.151051       12\n",
       "2   127.072607  37.156012   7.895149       14\n",
       "3   127.073774  37.148805   7.576805        2\n",
       "4   127.078233  37.156934   4.687755       10\n",
       "5   127.078348  37.136202   3.878734       19\n",
       "6   127.082861  37.134415   3.510845        6\n",
       "7   127.047654  37.185666   3.397441        8\n",
       "8   127.059009  37.170385   3.090950        3\n",
       "9   127.063561  37.162289   2.886692        7\n",
       "10  127.043093  37.194663   2.668260       18\n",
       "11  127.028440  37.195507   2.567713        4\n",
       "12  127.051098  37.174862   2.453533       17\n",
       "13  127.040041  37.140566   2.281091        5\n",
       "14  127.072719  37.136181   2.270667        0\n",
       "15  127.045455  37.176644   2.137928        1\n",
       "16  127.056709  37.178489   1.587852       11\n",
       "17  127.036349  37.191932   1.575257       16\n",
       "18  127.038800  37.159491   1.559862        9\n",
       "19  127.065762  37.171311   1.510075       15"
      ]
     },
     "execution_count": 122,
     "metadata": {},
     "output_type": "execute_result"
    }
   ],
   "source": [
    "df_opt_sites = df_opt_sites.iloc[where].reset_index(drop = True)\n",
    "df_opt_sites"
   ]
  },
  {
   "cell_type": "code",
   "execution_count": 123,
   "metadata": {},
   "outputs": [],
   "source": [
    "#df_opt_sites.to_csv('df_opt_sites.csv', index = False)"
   ]
  },
  {
   "cell_type": "markdown",
   "metadata": {},
   "source": [
    "# 시설물 설치 지역 선정"
   ]
  },
  {
   "cell_type": "code",
   "execution_count": 149,
   "metadata": {},
   "outputs": [],
   "source": [
    "data3 = data2.copy()"
   ]
  },
  {
   "cell_type": "code",
   "execution_count": 150,
   "metadata": {},
   "outputs": [
    {
     "data": {
      "text/plain": [
       "(88, 36)"
      ]
     },
     "execution_count": 150,
     "metadata": {},
     "output_type": "execute_result"
    }
   ],
   "source": [
    "# 어린이 교통사고 위험 지역 선정 과정에서 다중공선성 문제 해결한 설명 변수 사용\n",
    "\n",
    "data2 = final_df[final_df['어린이보호구역'] != 0]\n",
    "data2 = data2[data3.columns]\n",
    "data2.shape"
   ]
  },
  {
   "cell_type": "code",
   "execution_count": 161,
   "metadata": {},
   "outputs": [],
   "source": [
    "def make_col(df, col):\n",
    "\n",
    "    #forward\n",
    "    \n",
    "    df = data2.drop(['무인교통단속', '도로안전표지판', '과속방지턱', '신호등', 'CCTV'], axis = 1)\n",
    "    y = data2[col] ## 반응 변수\n",
    "    variables = list(df.columns)\n",
    "    selected_variables = [] ## 선택된 변수들\n",
    "    sl_enter = 0.1\n",
    "\n",
    "    sv_per_step = [] ## 각 스텝별로 선택된 변수들\n",
    "    adjusted_r_squared = []\n",
    "    steps = [] ## 스텝\n",
    "    step = 0\n",
    "    while len(variables) > 0:\n",
    "        remainder = list(set(variables) - set(selected_variables))\n",
    "        pval = pd.Series(index=remainder) ## 변수의 p-value\n",
    "        ## 기존에 포함된 변수와 새로운 변수 하나씩 돌아가면서 \n",
    "        ## 선형 모형을 적합한다.\n",
    "        for col in remainder: \n",
    "            X = df[selected_variables+[col]]\n",
    "            X = sm.add_constant(X)\n",
    "            #formula = \"{} ~ {}\".format('accident_cnt', ' + '.join(X.columns)) \n",
    "            model = sm.OLS(y,X).fit()\n",
    "            #model = smf.glm(formula , data1, family=sm.families.NegativeBinomial()).fit()\n",
    "            pval[col] = model.pvalues[col]\n",
    "\n",
    "        min_pval = pval.min()\n",
    "        if min_pval < sl_enter: ## 최소 p-value 값이 기준 값보다 작으면 포함\n",
    "            selected_variables.append(pval.idxmin())\n",
    "            step += 1\n",
    "            steps.append(step)\n",
    "            adj_r_squared = sm.OLS(y,sm.add_constant(df[selected_variables])).fit().rsquared_adj\n",
    "            adjusted_r_squared.append(adj_r_squared)\n",
    "            sv_per_step.append(selected_variables.copy())\n",
    "        else:\n",
    "            break\n",
    "\n",
    "    forward_cols = selected_variables\n",
    "    \n",
    "    #backward\n",
    "\n",
    "    selected_variables = variables ## 초기에는 모든 변수가 선택된 상태\n",
    "    sl_remove = 0.1\n",
    "\n",
    "    sv_per_step = [] ## 각 스텝별로 선택된 변수들\n",
    "    steps = [] ## 스텝\n",
    "    adjusted_r_squared = []\n",
    "    step = 0\n",
    "    while len(variables) > 0:\n",
    "        X = df[selected_variables]\n",
    "        #formula = \"{} ~ {}\".format('accident_cnt', ' + '.join(X.columns))\n",
    "        #p_vals = smf.glm(formula, data1, family=sm.families.NegativeBinomial()).fit().pvalues[1:]\n",
    "\n",
    "        p_vals = sm.OLS(y,X).fit().pvalues[1:] ## 절편항의 p-value는 뺀다\n",
    "        max_pval = p_vals.max() ## 최대 p-value\n",
    "        if max_pval >= sl_remove: ## 최대 p-value값이 기준값보다 크거나 같으면 제외\n",
    "            remove_variable = p_vals.idxmax()\n",
    "            selected_variables.remove(remove_variable)\n",
    "\n",
    "            step += 1\n",
    "            steps.append(step)\n",
    "            adj_r_squared = sm.OLS(y,sm.add_constant(df[selected_variables])).fit().rsquared_adj\n",
    "            adjusted_r_squared.append(adj_r_squared)\n",
    "            sv_per_step.append(selected_variables.copy())\n",
    "        else:\n",
    "            break\n",
    "\n",
    "    backward_cols = selected_variables\n",
    "    \n",
    "    both_cols = list(set(forward_cols).intersection(backward_cols))\n",
    "    #print(len(forward_cols), len(backward_cols), len(both_cols))\n",
    "    return both_cols"
   ]
  },
  {
   "cell_type": "code",
   "execution_count": 162,
   "metadata": {
    "scrolled": false
   },
   "outputs": [
    {
     "name": "stdout",
     "output_type": "stream",
     "text": [
      "                                 OLS Regression Results                                \n",
      "=======================================================================================\n",
      "Dep. Variable:                 무인교통단속   R-squared (uncentered):                   0.228\n",
      "Model:                            OLS   Adj. R-squared (uncentered):              0.210\n",
      "Method:                 Least Squares   F-statistic:                              12.68\n",
      "Date:                Thu, 28 Jan 2021   Prob (F-statistic):                    1.49e-05\n",
      "Time:                        03:53:55   Log-Likelihood:                          31.645\n",
      "No. Observations:                  88   AIC:                                     -59.29\n",
      "Df Residuals:                      86   BIC:                                     -54.34\n",
      "Df Model:                           2                                                  \n",
      "Covariance Type:            nonrobust                                                  \n",
      "==============================================================================\n",
      "                 coef    std err          t      P>|t|      [0.025      0.975]\n",
      "------------------------------------------------------------------------------\n",
      "주정차단속          3.1496      0.782      4.027      0.000       1.595       4.704\n",
      "초등학교           0.2543      0.088      2.881      0.005       0.079       0.430\n",
      "==============================================================================\n",
      "Omnibus:                       68.436   Durbin-Watson:                   1.457\n",
      "Prob(Omnibus):                  0.000   Jarque-Bera (JB):              338.620\n",
      "Skew:                           2.580   Prob(JB):                     2.95e-74\n",
      "Kurtosis:                      11.107   Cond. No.                         8.86\n",
      "==============================================================================\n",
      "\n",
      "Notes:\n",
      "[1] R² is computed without centering (uncentered) since the model does not contain a constant.\n",
      "[2] Standard Errors assume that the covariance matrix of the errors is correctly specified.\n",
      "                                 OLS Regression Results                                \n",
      "=======================================================================================\n",
      "Dep. Variable:                도로안전표지판   R-squared (uncentered):                   0.709\n",
      "Model:                            OLS   Adj. R-squared (uncentered):              0.687\n",
      "Method:                 Least Squares   F-statistic:                              33.24\n",
      "Date:                Thu, 28 Jan 2021   Prob (F-statistic):                    5.09e-20\n",
      "Time:                        03:53:56   Log-Likelihood:                          121.41\n",
      "No. Observations:                  88   AIC:                                     -230.8\n",
      "Df Residuals:                      82   BIC:                                     -216.0\n",
      "Df Model:                           6                                                  \n",
      "Covariance Type:            nonrobust                                                  \n",
      "================================================================================\n",
      "                   coef    std err          t      P>|t|      [0.025      0.975]\n",
      "--------------------------------------------------------------------------------\n",
      "추정교통량_전체         1.4533      0.152      9.565      0.000       1.151       1.756\n",
      "도로길이            -1.1030      0.162     -6.819      0.000      -1.425      -0.781\n",
      "도로수             -0.2358      0.079     -2.990      0.004      -0.393      -0.079\n",
      "학원_교습소           0.3278      0.144      2.277      0.025       0.041       0.614\n",
      "버스정류장_around    -0.0729      0.050     -1.473      0.145      -0.171       0.026\n",
      "도로폭              0.1709      0.032      5.365      0.000       0.108       0.234\n",
      "==============================================================================\n",
      "Omnibus:                       29.380   Durbin-Watson:                   2.163\n",
      "Prob(Omnibus):                  0.000   Jarque-Bera (JB):               73.537\n",
      "Skew:                           1.130   Prob(JB):                     1.08e-16\n",
      "Kurtosis:                       6.866   Cond. No.                         14.4\n",
      "==============================================================================\n",
      "\n",
      "Notes:\n",
      "[1] R² is computed without centering (uncentered) since the model does not contain a constant.\n",
      "[2] Standard Errors assume that the covariance matrix of the errors is correctly specified.\n",
      "                                 OLS Regression Results                                \n",
      "=======================================================================================\n",
      "Dep. Variable:                  과속방지턱   R-squared (uncentered):                   0.597\n",
      "Model:                            OLS   Adj. R-squared (uncentered):              0.573\n",
      "Method:                 Least Squares   F-statistic:                              24.63\n",
      "Date:                Thu, 28 Jan 2021   Prob (F-statistic):                    3.98e-15\n",
      "Time:                        03:53:58   Log-Likelihood:                          99.509\n",
      "No. Observations:                  88   AIC:                                     -189.0\n",
      "Df Residuals:                      83   BIC:                                     -176.6\n",
      "Df Model:                           5                                                  \n",
      "Covariance Type:            nonrobust                                                  \n",
      "===============================================================================\n",
      "                  coef    std err          t      P>|t|      [0.025      0.975]\n",
      "-------------------------------------------------------------------------------\n",
      "주정차단속           3.8645      0.395      9.782      0.000       3.079       4.650\n",
      "총인구            -0.2099      0.106     -1.987      0.050      -0.420       0.000\n",
      "어린이집_유치원        0.0920      0.034      2.670      0.009       0.023       0.160\n",
      "버스정류장          -0.4083      0.110     -3.726      0.000      -0.626      -0.190\n",
      "초등학교_around     0.0472      0.039      1.202      0.233      -0.031       0.125\n",
      "==============================================================================\n",
      "Omnibus:                       48.329   Durbin-Watson:                   2.091\n",
      "Prob(Omnibus):                  0.000   Jarque-Bera (JB):              242.051\n",
      "Skew:                           1.610   Prob(JB):                     2.75e-53\n",
      "Kurtosis:                      10.459   Cond. No.                         16.8\n",
      "==============================================================================\n",
      "\n",
      "Notes:\n",
      "[1] R² is computed without centering (uncentered) since the model does not contain a constant.\n",
      "[2] Standard Errors assume that the covariance matrix of the errors is correctly specified.\n",
      "                                 OLS Regression Results                                \n",
      "=======================================================================================\n",
      "Dep. Variable:                    신호등   R-squared (uncentered):                   0.731\n",
      "Model:                            OLS   Adj. R-squared (uncentered):              0.715\n",
      "Method:                 Least Squares   F-statistic:                              45.16\n",
      "Date:                Thu, 28 Jan 2021   Prob (F-statistic):                    2.78e-22\n",
      "Time:                        03:54:00   Log-Likelihood:                          139.52\n",
      "No. Observations:                  88   AIC:                                     -269.0\n",
      "Df Residuals:                      83   BIC:                                     -256.7\n",
      "Df Model:                           5                                                  \n",
      "Covariance Type:            nonrobust                                                  \n",
      "==================================================================================\n",
      "                     coef    std err          t      P>|t|      [0.025      0.975]\n",
      "----------------------------------------------------------------------------------\n",
      "추정교통량_전체           0.1955      0.115      1.707      0.092      -0.032       0.423\n",
      "도로평균제한속도          -0.0401      0.025     -1.599      0.114      -0.090       0.010\n",
      "버스정류장_around      -0.0930      0.042     -2.206      0.030      -0.177      -0.009\n",
      "도로안전표지판_around     0.1155      0.042      2.770      0.007       0.033       0.198\n",
      "횡단보도               0.5430      0.039     13.822      0.000       0.465       0.621\n",
      "==============================================================================\n",
      "Omnibus:                       25.114   Durbin-Watson:                   2.373\n",
      "Prob(Omnibus):                  0.000   Jarque-Bera (JB):               90.314\n",
      "Skew:                           0.781   Prob(JB):                     2.45e-20\n",
      "Kurtosis:                       7.711   Cond. No.                         7.46\n",
      "==============================================================================\n",
      "\n",
      "Notes:\n",
      "[1] R² is computed without centering (uncentered) since the model does not contain a constant.\n",
      "[2] Standard Errors assume that the covariance matrix of the errors is correctly specified.\n",
      "                                 OLS Regression Results                                \n",
      "=======================================================================================\n",
      "Dep. Variable:                   CCTV   R-squared (uncentered):                   0.602\n",
      "Model:                            OLS   Adj. R-squared (uncentered):              0.583\n",
      "Method:                 Least Squares   F-statistic:                              31.75\n",
      "Date:                Thu, 28 Jan 2021   Prob (F-statistic):                    4.18e-16\n",
      "Time:                        03:54:01   Log-Likelihood:                          40.757\n",
      "No. Observations:                  88   AIC:                                     -73.51\n",
      "Df Residuals:                      84   BIC:                                     -63.61\n",
      "Df Model:                           4                                                  \n",
      "Covariance Type:            nonrobust                                                  \n",
      "==================================================================================\n",
      "                     coef    std err          t      P>|t|      [0.025      0.975]\n",
      "----------------------------------------------------------------------------------\n",
      "도로수                0.3463      0.136      2.552      0.013       0.076       0.616\n",
      "주정차단속              3.1150      0.730      4.265      0.000       1.662       4.567\n",
      "버스정류장_around       0.4875      0.116      4.195      0.000       0.256       0.719\n",
      "어린이보호구역_around     0.2600      0.079      3.288      0.001       0.103       0.417\n",
      "==============================================================================\n",
      "Omnibus:                        1.739   Durbin-Watson:                   2.382\n",
      "Prob(Omnibus):                  0.419   Jarque-Bera (JB):                1.770\n",
      "Skew:                           0.295   Prob(JB):                        0.413\n",
      "Kurtosis:                       2.633   Cond. No.                         11.2\n",
      "==============================================================================\n",
      "\n",
      "Notes:\n",
      "[1] R² is computed without centering (uncentered) since the model does not contain a constant.\n",
      "[2] Standard Errors assume that the covariance matrix of the errors is correctly specified.\n"
     ]
    }
   ],
   "source": [
    "for c in ['무인교통단속', '도로안전표지판', '과속방지턱', '신호등', 'CCTV']:\n",
    "    col_name = 'w_' + c\n",
    "    both_cols = make_col(data2, c)\n",
    "    \n",
    "    model = sm.OLS(data2[c], data2[both_cols])\n",
    "    results = model.fit(random_state = 1)\n",
    "    print(results.summary())\n",
    "    print(results.)\n",
    "    final_df[col_name] = 0\n",
    "\n",
    "    for i in range(1, len(results.params)):\n",
    "        final_df[col_name] += (results.params[i]*final_df[results.params.index[i]])\n",
    "\n",
    "    for i in range(len(final_df)):\n",
    "        if final_df.loc[i, col_name] < 0:\n",
    "            final_df.loc[i, col_name] = 0"
   ]
  },
  {
   "cell_type": "code",
   "execution_count": 163,
   "metadata": {},
   "outputs": [],
   "source": [
    "# R-squared 확인 결과, 무인교통단속은 지역 특성의 영향을 적게 받는 것을 판단.\n",
    "# 지역 특성에 따른 무인교통단속 필요 지수를 산출하는 것은 어려움. 4개의 시설물만을 활용하여 시설물 필요지수 계산\n",
    "\n",
    "final_df['w_시설물'] = final_df[['w_' + i for i in ['도로안전표지판', '과속방지턱', '신호등', 'CCTV']]].sum(axis = 1)"
   ]
  },
  {
   "cell_type": "code",
   "execution_count": 164,
   "metadata": {},
   "outputs": [],
   "source": [
    "final_df['시설물총합'] = final_df[['도로안전표지판', '과속방지턱', '신호등', 'CCTV']].sum(axis = 1)"
   ]
  },
  {
   "cell_type": "code",
   "execution_count": 165,
   "metadata": {},
   "outputs": [],
   "source": [
    "final_df['w_facility'] = final_df['시설물총합'] - final_df['w_시설물']"
   ]
  },
  {
   "cell_type": "code",
   "execution_count": 166,
   "metadata": {},
   "outputs": [
    {
     "name": "stdout",
     "output_type": "stream",
     "text": [
      "88\n"
     ]
    }
   ],
   "source": [
    "df_fin = final_df[final_df['어린이보호구역'] > 0].reset_index(drop = True)\n",
    "print(len(df_fin))"
   ]
  },
  {
   "cell_type": "code",
   "execution_count": 167,
   "metadata": {},
   "outputs": [
    {
     "name": "stdout",
     "output_type": "stream",
     "text": [
      "----- Configurations -----\n",
      "  Number of points 88\n",
      "  K 20\n",
      "  Radius 0.000563444\n",
      "  M 50\n",
      "----- Output -----\n",
      "  Running time : 4.701618432998657 seconds\n",
      "  Optimal coverage points: 7.40634\n"
     ]
    },
    {
     "data": {
      "text/html": [
       "<div>\n",
       "<style scoped>\n",
       "    .dataframe tbody tr th:only-of-type {\n",
       "        vertical-align: middle;\n",
       "    }\n",
       "\n",
       "    .dataframe tbody tr th {\n",
       "        vertical-align: top;\n",
       "    }\n",
       "\n",
       "    .dataframe thead th {\n",
       "        text-align: right;\n",
       "    }\n",
       "</style>\n",
       "<table border=\"1\" class=\"dataframe\">\n",
       "  <thead>\n",
       "    <tr style=\"text-align: right;\">\n",
       "      <th></th>\n",
       "      <th>lon</th>\n",
       "      <th>lat</th>\n",
       "      <th>w_facility</th>\n",
       "    </tr>\n",
       "  </thead>\n",
       "  <tbody>\n",
       "    <tr>\n",
       "      <th>0</th>\n",
       "      <td>127.071618</td>\n",
       "      <td>37.131670</td>\n",
       "      <td>1.218383</td>\n",
       "    </tr>\n",
       "    <tr>\n",
       "      <th>1</th>\n",
       "      <td>127.026181</td>\n",
       "      <td>37.196399</td>\n",
       "      <td>0.205936</td>\n",
       "    </tr>\n",
       "    <tr>\n",
       "      <th>2</th>\n",
       "      <td>127.072734</td>\n",
       "      <td>37.133477</td>\n",
       "      <td>0.436208</td>\n",
       "    </tr>\n",
       "    <tr>\n",
       "      <th>3</th>\n",
       "      <td>127.076056</td>\n",
       "      <td>37.143405</td>\n",
       "      <td>0.360973</td>\n",
       "    </tr>\n",
       "    <tr>\n",
       "      <th>4</th>\n",
       "      <td>127.054472</td>\n",
       "      <td>37.175776</td>\n",
       "      <td>0.269440</td>\n",
       "    </tr>\n",
       "    <tr>\n",
       "      <th>5</th>\n",
       "      <td>127.085118</td>\n",
       "      <td>37.133521</td>\n",
       "      <td>0.960163</td>\n",
       "    </tr>\n",
       "    <tr>\n",
       "      <th>6</th>\n",
       "      <td>127.071532</td>\n",
       "      <td>37.146994</td>\n",
       "      <td>0.033814</td>\n",
       "    </tr>\n",
       "    <tr>\n",
       "      <th>7</th>\n",
       "      <td>127.049993</td>\n",
       "      <td>37.171252</td>\n",
       "      <td>0.159625</td>\n",
       "    </tr>\n",
       "    <tr>\n",
       "      <th>8</th>\n",
       "      <td>127.069346</td>\n",
       "      <td>37.135268</td>\n",
       "      <td>2.293468</td>\n",
       "    </tr>\n",
       "    <tr>\n",
       "      <th>9</th>\n",
       "      <td>127.075981</td>\n",
       "      <td>37.156926</td>\n",
       "      <td>0.386961</td>\n",
       "    </tr>\n",
       "    <tr>\n",
       "      <th>10</th>\n",
       "      <td>127.063613</td>\n",
       "      <td>37.153275</td>\n",
       "      <td>0.601032</td>\n",
       "    </tr>\n",
       "    <tr>\n",
       "      <th>11</th>\n",
       "      <td>127.069239</td>\n",
       "      <td>37.154197</td>\n",
       "      <td>0.059723</td>\n",
       "    </tr>\n",
       "    <tr>\n",
       "      <th>12</th>\n",
       "      <td>127.072749</td>\n",
       "      <td>37.130773</td>\n",
       "      <td>0.127835</td>\n",
       "    </tr>\n",
       "    <tr>\n",
       "      <th>13</th>\n",
       "      <td>127.058999</td>\n",
       "      <td>37.172188</td>\n",
       "      <td>0.952317</td>\n",
       "    </tr>\n",
       "    <tr>\n",
       "      <th>14</th>\n",
       "      <td>127.052203</td>\n",
       "      <td>37.178472</td>\n",
       "      <td>0.377934</td>\n",
       "    </tr>\n",
       "    <tr>\n",
       "      <th>15</th>\n",
       "      <td>127.078253</td>\n",
       "      <td>37.153328</td>\n",
       "      <td>0.283722</td>\n",
       "    </tr>\n",
       "    <tr>\n",
       "      <th>16</th>\n",
       "      <td>127.090699</td>\n",
       "      <td>37.142555</td>\n",
       "      <td>0.071501</td>\n",
       "    </tr>\n",
       "    <tr>\n",
       "      <th>17</th>\n",
       "      <td>127.067094</td>\n",
       "      <td>37.135260</td>\n",
       "      <td>0.211714</td>\n",
       "    </tr>\n",
       "    <tr>\n",
       "      <th>18</th>\n",
       "      <td>127.066889</td>\n",
       "      <td>37.171315</td>\n",
       "      <td>0.142662</td>\n",
       "    </tr>\n",
       "    <tr>\n",
       "      <th>19</th>\n",
       "      <td>127.045406</td>\n",
       "      <td>37.184756</td>\n",
       "      <td>0.028879</td>\n",
       "    </tr>\n",
       "  </tbody>\n",
       "</table>\n",
       "</div>"
      ],
      "text/plain": [
       "           lon        lat  w_facility\n",
       "0   127.071618  37.131670    1.218383\n",
       "1   127.026181  37.196399    0.205936\n",
       "2   127.072734  37.133477    0.436208\n",
       "3   127.076056  37.143405    0.360973\n",
       "4   127.054472  37.175776    0.269440\n",
       "5   127.085118  37.133521    0.960163\n",
       "6   127.071532  37.146994    0.033814\n",
       "7   127.049993  37.171252    0.159625\n",
       "8   127.069346  37.135268    2.293468\n",
       "9   127.075981  37.156926    0.386961\n",
       "10  127.063613  37.153275    0.601032\n",
       "11  127.069239  37.154197    0.059723\n",
       "12  127.072749  37.130773    0.127835\n",
       "13  127.058999  37.172188    0.952317\n",
       "14  127.052203  37.178472    0.377934\n",
       "15  127.078253  37.153328    0.283722\n",
       "16  127.090699  37.142555    0.071501\n",
       "17  127.067094  37.135260    0.211714\n",
       "18  127.066889  37.171315    0.142662\n",
       "19  127.045406  37.184756    0.028879"
      ]
     },
     "execution_count": 167,
     "metadata": {},
     "output_type": "execute_result"
    }
   ],
   "source": [
    "points = []\n",
    "for i in df_fin['coord_cent'] :\n",
    "    points.append(i)\n",
    "\n",
    "w= []\n",
    "for i in df_fin['w_facility'] :\n",
    "    w.append(i)\n",
    "\n",
    "radius = radius = (1/88.74/1000)*50\n",
    "K = 20\n",
    "M = 50\n",
    "\n",
    "opt_sites_org,f, opt_sites_lack = mclp(np.array(points), K, radius, M, df_fin, w, 'w_facility')\n",
    "\n",
    "df_opt_facility= pd.DataFrame(opt_sites_org)\n",
    "df_opt_facility.columns = ['lon', 'lat']\n",
    "#df_opt_facility['w_facility'] = opt_sites_lack\n",
    "df_opt_facility"
   ]
  },
  {
   "cell_type": "code",
   "execution_count": 168,
   "metadata": {},
   "outputs": [],
   "source": [
    "scaler = StandardScaler()\n",
    "data_points = scaler.fi ㅂt_transform(df_opt_facility[['lon', 'lat']])"
   ]
  },
  {
   "cell_type": "code",
   "execution_count": 169,
   "metadata": {},
   "outputs": [],
   "source": [
    "kmeans = KMeans(n_clusters = 20, random_state = 1).fit(data_points)\n",
    "df_opt_facility['cluster'] = kmeans.labels_ "
   ]
  },
  {
   "cell_type": "code",
   "execution_count": 170,
   "metadata": {},
   "outputs": [],
   "source": [
    "where = []\n",
    "for i in range(len(df_opt_facility)):\n",
    "    if df_opt_facility.loc[i, 'w_facility'] in df_opt_facility.groupby('cluster')['w_facility'].max().values:\n",
    "        where.append(i)"
   ]
  },
  {
   "cell_type": "code",
   "execution_count": 171,
   "metadata": {},
   "outputs": [
    {
     "data": {
      "text/html": [
       "<div>\n",
       "<style scoped>\n",
       "    .dataframe tbody tr th:only-of-type {\n",
       "        vertical-align: middle;\n",
       "    }\n",
       "\n",
       "    .dataframe tbody tr th {\n",
       "        vertical-align: top;\n",
       "    }\n",
       "\n",
       "    .dataframe thead th {\n",
       "        text-align: right;\n",
       "    }\n",
       "</style>\n",
       "<table border=\"1\" class=\"dataframe\">\n",
       "  <thead>\n",
       "    <tr style=\"text-align: right;\">\n",
       "      <th></th>\n",
       "      <th>lon</th>\n",
       "      <th>lat</th>\n",
       "      <th>w_facility</th>\n",
       "      <th>cluster</th>\n",
       "    </tr>\n",
       "  </thead>\n",
       "  <tbody>\n",
       "    <tr>\n",
       "      <th>0</th>\n",
       "      <td>127.071618</td>\n",
       "      <td>37.131670</td>\n",
       "      <td>1.218383</td>\n",
       "      <td>18</td>\n",
       "    </tr>\n",
       "    <tr>\n",
       "      <th>1</th>\n",
       "      <td>127.026181</td>\n",
       "      <td>37.196399</td>\n",
       "      <td>0.205936</td>\n",
       "      <td>3</td>\n",
       "    </tr>\n",
       "    <tr>\n",
       "      <th>2</th>\n",
       "      <td>127.072734</td>\n",
       "      <td>37.133477</td>\n",
       "      <td>0.436208</td>\n",
       "      <td>1</td>\n",
       "    </tr>\n",
       "    <tr>\n",
       "      <th>3</th>\n",
       "      <td>127.076056</td>\n",
       "      <td>37.143405</td>\n",
       "      <td>0.360973</td>\n",
       "      <td>8</td>\n",
       "    </tr>\n",
       "    <tr>\n",
       "      <th>4</th>\n",
       "      <td>127.054472</td>\n",
       "      <td>37.175776</td>\n",
       "      <td>0.269440</td>\n",
       "      <td>0</td>\n",
       "    </tr>\n",
       "    <tr>\n",
       "      <th>5</th>\n",
       "      <td>127.085118</td>\n",
       "      <td>37.133521</td>\n",
       "      <td>0.960163</td>\n",
       "      <td>11</td>\n",
       "    </tr>\n",
       "    <tr>\n",
       "      <th>6</th>\n",
       "      <td>127.071532</td>\n",
       "      <td>37.146994</td>\n",
       "      <td>0.033814</td>\n",
       "      <td>14</td>\n",
       "    </tr>\n",
       "    <tr>\n",
       "      <th>7</th>\n",
       "      <td>127.049993</td>\n",
       "      <td>37.171252</td>\n",
       "      <td>0.159625</td>\n",
       "      <td>13</td>\n",
       "    </tr>\n",
       "    <tr>\n",
       "      <th>8</th>\n",
       "      <td>127.069346</td>\n",
       "      <td>37.135268</td>\n",
       "      <td>2.293468</td>\n",
       "      <td>17</td>\n",
       "    </tr>\n",
       "    <tr>\n",
       "      <th>9</th>\n",
       "      <td>127.075981</td>\n",
       "      <td>37.156926</td>\n",
       "      <td>0.386961</td>\n",
       "      <td>6</td>\n",
       "    </tr>\n",
       "    <tr>\n",
       "      <th>10</th>\n",
       "      <td>127.063613</td>\n",
       "      <td>37.153275</td>\n",
       "      <td>0.601032</td>\n",
       "      <td>12</td>\n",
       "    </tr>\n",
       "    <tr>\n",
       "      <th>11</th>\n",
       "      <td>127.069239</td>\n",
       "      <td>37.154197</td>\n",
       "      <td>0.059723</td>\n",
       "      <td>2</td>\n",
       "    </tr>\n",
       "    <tr>\n",
       "      <th>12</th>\n",
       "      <td>127.072749</td>\n",
       "      <td>37.130773</td>\n",
       "      <td>0.127835</td>\n",
       "      <td>19</td>\n",
       "    </tr>\n",
       "    <tr>\n",
       "      <th>13</th>\n",
       "      <td>127.058999</td>\n",
       "      <td>37.172188</td>\n",
       "      <td>0.952317</td>\n",
       "      <td>5</td>\n",
       "    </tr>\n",
       "    <tr>\n",
       "      <th>14</th>\n",
       "      <td>127.052203</td>\n",
       "      <td>37.178472</td>\n",
       "      <td>0.377934</td>\n",
       "      <td>15</td>\n",
       "    </tr>\n",
       "    <tr>\n",
       "      <th>15</th>\n",
       "      <td>127.078253</td>\n",
       "      <td>37.153328</td>\n",
       "      <td>0.283722</td>\n",
       "      <td>16</td>\n",
       "    </tr>\n",
       "    <tr>\n",
       "      <th>16</th>\n",
       "      <td>127.090699</td>\n",
       "      <td>37.142555</td>\n",
       "      <td>0.071501</td>\n",
       "      <td>4</td>\n",
       "    </tr>\n",
       "    <tr>\n",
       "      <th>17</th>\n",
       "      <td>127.067094</td>\n",
       "      <td>37.135260</td>\n",
       "      <td>0.211714</td>\n",
       "      <td>10</td>\n",
       "    </tr>\n",
       "    <tr>\n",
       "      <th>18</th>\n",
       "      <td>127.066889</td>\n",
       "      <td>37.171315</td>\n",
       "      <td>0.142662</td>\n",
       "      <td>9</td>\n",
       "    </tr>\n",
       "    <tr>\n",
       "      <th>19</th>\n",
       "      <td>127.045406</td>\n",
       "      <td>37.184756</td>\n",
       "      <td>0.028879</td>\n",
       "      <td>7</td>\n",
       "    </tr>\n",
       "  </tbody>\n",
       "</table>\n",
       "</div>"
      ],
      "text/plain": [
       "           lon        lat  w_facility  cluster\n",
       "0   127.071618  37.131670    1.218383       18\n",
       "1   127.026181  37.196399    0.205936        3\n",
       "2   127.072734  37.133477    0.436208        1\n",
       "3   127.076056  37.143405    0.360973        8\n",
       "4   127.054472  37.175776    0.269440        0\n",
       "5   127.085118  37.133521    0.960163       11\n",
       "6   127.071532  37.146994    0.033814       14\n",
       "7   127.049993  37.171252    0.159625       13\n",
       "8   127.069346  37.135268    2.293468       17\n",
       "9   127.075981  37.156926    0.386961        6\n",
       "10  127.063613  37.153275    0.601032       12\n",
       "11  127.069239  37.154197    0.059723        2\n",
       "12  127.072749  37.130773    0.127835       19\n",
       "13  127.058999  37.172188    0.952317        5\n",
       "14  127.052203  37.178472    0.377934       15\n",
       "15  127.078253  37.153328    0.283722       16\n",
       "16  127.090699  37.142555    0.071501        4\n",
       "17  127.067094  37.135260    0.211714       10\n",
       "18  127.066889  37.171315    0.142662        9\n",
       "19  127.045406  37.184756    0.028879        7"
      ]
     },
     "execution_count": 171,
     "metadata": {},
     "output_type": "execute_result"
    }
   ],
   "source": [
    "df_opt_facility = df_opt_facility.iloc[where].reset_index(drop = True)\n",
    "df_opt_facility   "
   ]
  },
  {
   "cell_type": "code",
   "execution_count": 183,
   "metadata": {},
   "outputs": [],
   "source": [
    "df_opt_facility.to_csv('df_opt_facility.csv', index = False)"
   ]
  },
  {
   "cell_type": "code",
   "execution_count": null,
   "metadata": {},
   "outputs": [],
   "source": []
  }
 ],
 "metadata": {
  "kernelspec": {
   "display_name": "Python 3",
   "language": "python",
   "name": "python3"
  },
  "language_info": {
   "codemirror_mode": {
    "name": "ipython",
    "version": 3
   },
   "file_extension": ".py",
   "mimetype": "text/x-python",
   "name": "python",
   "nbconvert_exporter": "python",
   "pygments_lexer": "ipython3",
   "version": "3.6.9"
  }
 },
 "nbformat": 4,
 "nbformat_minor": 2
}
